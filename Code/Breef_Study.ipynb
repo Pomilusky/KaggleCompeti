{
 "cells": [
  {
   "cell_type": "code",
   "execution_count": 21,
   "metadata": {},
   "outputs": [],
   "source": [
    "import pandas as pd\n",
    "import numpy as np\n",
    "import seaborn as sns\n",
    "import matplotlib.pyplot as plt\n",
    "import Cleaning_fun as CF\n",
    "#from Cleaning_fun import print_full\n",
    "#pd.options.display.max_columns=300\n",
    "#pd.options.display.max_rows=300\n"
   ]
  },
  {
   "cell_type": "code",
   "execution_count": 22,
   "metadata": {},
   "outputs": [],
   "source": [
    "def print_full(x):\n",
    "    \"\"\" This function can be used when we want to see a whole output in Jupyter notebook but just once, for some propouse.\n",
    "    \"\"\"\n",
    "    pd.set_option('display.max_rows', None)\n",
    "    pd.set_option('display.max_columns', None)\n",
    "    pd.set_option('display.width', 2000)\n",
    "    pd.set_option('display.float_format', '{:20,.2f}'.format)\n",
    "    pd.set_option('display.max_colwidth', None)\n",
    "    print(x)\n",
    "    pd.reset_option('display.max_rows')\n",
    "    pd.reset_option('display.max_columns')\n",
    "    pd.reset_option('display.width')\n",
    "    pd.reset_option('display.float_format')"
   ]
  },
  {
   "cell_type": "code",
   "execution_count": 3,
   "metadata": {},
   "outputs": [
    {
     "name": "stderr",
     "output_type": "stream",
     "text": [
      "/tmp/ipykernel_8878/1194405699.py:2: DtypeWarning: Columns (0,2,22,36,41,45,46,55,61,64,66) have mixed types. Specify dtype option on import or set low_memory=False.\n",
      "  df = pd.read_csv('../Data/train.csv')\n"
     ]
    }
   ],
   "source": [
    "# Obro tot l'arxiu per agafar-ne una mostra aleatoria,\n",
    "df = pd.read_csv('../Data/train.csv')"
   ]
  },
  {
   "cell_type": "code",
   "execution_count": 23,
   "metadata": {},
   "outputs": [
    {
     "name": "stdout",
     "output_type": "stream",
     "text": [
      "<class 'pandas.core.frame.DataFrame'>\n",
      "Int64Index: 263739 entries, 0 to 263759\n",
      "Data columns (total 82 columns):\n",
      " #   Column                                        Non-Null Count   Dtype  \n",
      "---  ------                                        --------------   -----  \n",
      " 0   id                                            263726 non-null  object \n",
      " 1   listing_url                                   263736 non-null  object \n",
      " 2   scrape_id                                     263736 non-null  object \n",
      " 3   last_scraped                                  263737 non-null  object \n",
      " 4   name                                          263641 non-null  object \n",
      " 5   description                                   259223 non-null  object \n",
      " 6   neighborhood_overview                         153831 non-null  object \n",
      " 7   picture_url                                   263724 non-null  object \n",
      " 8   host_id                                       263739 non-null  float64\n",
      " 9   host_url                                      263739 non-null  object \n",
      " 10  host_name                                     263332 non-null  object \n",
      " 11  host_since                                    263332 non-null  object \n",
      " 12  host_location                                 262808 non-null  object \n",
      " 13  host_about                                    140903 non-null  object \n",
      " 14  host_response_time                            170986 non-null  object \n",
      " 15  host_response_rate                            170980 non-null  object \n",
      " 16  host_acceptance_rate                          186749 non-null  object \n",
      " 17  host_is_superhost                             263332 non-null  object \n",
      " 18  host_thumbnail_url                            263332 non-null  object \n",
      " 19  host_picture_url                              263332 non-null  object \n",
      " 20  host_neighbourhood                            127322 non-null  object \n",
      " 21  host_listings_count                           263311 non-null  float64\n",
      " 22  host_total_listings_count                     263332 non-null  object \n",
      " 23  host_verifications                            263739 non-null  object \n",
      " 24  host_has_profile_pic                          263332 non-null  object \n",
      " 25  host_identity_verified                        263332 non-null  object \n",
      " 26  neighbourhood                                 153832 non-null  object \n",
      " 27  neighbourhood_cleansed                        244612 non-null  object \n",
      " 28  neighbourhood_group_cleansed                  70815 non-null   object \n",
      " 29  latitude                                      263739 non-null  float64\n",
      " 30  longitude                                     263739 non-null  float64\n",
      " 31  property_type                                 263739 non-null  object \n",
      " 32  room_type                                     263739 non-null  object \n",
      " 33  accommodates                                  263739 non-null  float64\n",
      " 34  bathrooms                                     21 non-null      float64\n",
      " 35  bathrooms_text                                263213 non-null  object \n",
      " 36  bedrooms                                      244013 non-null  object \n",
      " 37  beds                                          255998 non-null  float64\n",
      " 38  amenities                                     263739 non-null  object \n",
      " 39  price                                         263739 non-null  float64\n",
      " 40  minimum_nights                                263739 non-null  float64\n",
      " 41  maximum_nights                                263739 non-null  object \n",
      " 42  minimum_minimum_nights                        263729 non-null  float64\n",
      " 43  maximum_minimum_nights                        263729 non-null  float64\n",
      " 44  minimum_maximum_nights                        263729 non-null  float64\n",
      " 45  maximum_maximum_nights                        263727 non-null  object \n",
      " 46  minimum_nights_avg_ntm                        263727 non-null  object \n",
      " 47  maximum_nights_avg_ntm                        263727 non-null  float64\n",
      " 48  calendar_updated                              19 non-null      float64\n",
      " 49  has_availability                              263737 non-null  object \n",
      " 50  availability_30                               263737 non-null  float64\n",
      " 51  availability_60                               263737 non-null  float64\n",
      " 52  availability_90                               263737 non-null  float64\n",
      " 53  availability_365                              263737 non-null  float64\n",
      " 54  calendar_last_scraped                         263730 non-null  object \n",
      " 55  number_of_reviews                             263739 non-null  object \n",
      " 56  number_of_reviews_ltm                         263739 non-null  float64\n",
      " 57  number_of_reviews_l30d                        263739 non-null  float64\n",
      " 58  first_review                                  210522 non-null  object \n",
      " 59  last_review                                   210522 non-null  object \n",
      " 60  review_scores_rating                          210520 non-null  float64\n",
      " 61  review_scores_accuracy                        208088 non-null  object \n",
      " 62  review_scores_cleanliness                     208112 non-null  float64\n",
      " 63  review_scores_checkin                         208049 non-null  float64\n",
      " 64  review_scores_communication                   208091 non-null  object \n",
      " 65  review_scores_location                        208040 non-null  float64\n",
      " 66  review_scores_value                           208027 non-null  object \n",
      " 67  license                                       113305 non-null  object \n",
      " 68  instant_bookable                              263721 non-null  object \n",
      " 69  calculated_host_listings_count                263718 non-null  float64\n",
      " 70  calculated_host_listings_count_entire_homes   263718 non-null  float64\n",
      " 71  calculated_host_listings_count_private_rooms  263718 non-null  float64\n",
      " 72  calculated_host_listings_count_shared_rooms   263718 non-null  float64\n",
      " 73  reviews_per_month                             210501 non-null  float64\n",
      " 74  last_searched                                 13575 non-null   object \n",
      " 75  requires_license                              0 non-null       float64\n",
      " 76  region_id                                     19127 non-null   float64\n",
      " 77  region_name                                   19127 non-null   object \n",
      " 78  region_parent_id                              19127 non-null   float64\n",
      " 79  region_parent_name                            19127 non-null   object \n",
      " 80  region_parent_parent_id                       19127 non-null   object \n",
      " 81  region_parent_parent_name                     19127 non-null   object \n",
      "dtypes: float64(32), object(50)\n",
      "memory usage: 167.0+ MB\n",
      "None\n"
     ]
    }
   ],
   "source": [
    "df.dropna(subset=['price'], inplace=True)\n",
    "print_full(df.info())"
   ]
  },
  {
   "cell_type": "code",
   "execution_count": 4,
   "metadata": {},
   "outputs": [],
   "source": [
    "# agafo una mostra random,\n",
    "df_sample = df.sample(5000).reset_index(drop=True)\n",
    "# La subdivideixo en funcio del preu"
   ]
  },
  {
   "cell_type": "code",
   "execution_count": 5,
   "metadata": {},
   "outputs": [],
   "source": [
    "df_sample_lowp = df_sample[df_sample.price < 1000] # Let's take just the lower prices to observe the distribution\n",
    "df_sample_highp = df_sample[df_sample.price > 1000]\n",
    "df_sample_vlowp = df_sample[df_sample.price < 300]"
   ]
  },
  {
   "cell_type": "code",
   "execution_count": 6,
   "metadata": {},
   "outputs": [
    {
     "name": "stdout",
     "output_type": "stream",
     "text": [
      "0    50.0\n",
      "Name: price, dtype: float64\n"
     ]
    },
    {
     "data": {
      "text/plain": [
       "<seaborn.axisgrid.FacetGrid at 0x7f2eda5eedc0>"
      ]
     },
     "execution_count": 6,
     "metadata": {},
     "output_type": "execute_result"
    },
    {
     "data": {
      "image/png": "[encoded data removed]",
      "text/plain": [
       "<Figure size 360x360 with 1 Axes>"
      ]
     },
     "metadata": {
      "needs_background": "light"
     },
     "output_type": "display_data"
    }
   ],
   "source": [
    "print(df_sample_vlowp.price.mode())\n",
    "sns.displot(data=df_sample, x='price', kind='hist',kde=True) # Veiem que es una T d'student MOLT deslpaçada cam als preus baixos. "
   ]
  },
  {
   "cell_type": "code",
   "execution_count": 7,
   "metadata": {},
   "outputs": [],
   "source": [
    "CF.Clean_columns(df_sample, inpl=True)"
   ]
  },
  {
   "cell_type": "code",
   "execution_count": 8,
   "metadata": {},
   "outputs": [
    {
     "data": {
      "text/html": [
       "<div>\n",
       "<style scoped>\n",
       "    .dataframe tbody tr th:only-of-type {\n",
       "        vertical-align: middle;\n",
       "    }\n",
       "\n",
       "    .dataframe tbody tr th {\n",
       "        vertical-align: top;\n",
       "    }\n",
       "\n",
       "    .dataframe thead th {\n",
       "        text-align: right;\n",
       "    }\n",
       "</style>\n",
       "<table border=\"1\" class=\"dataframe\">\n",
       "  <thead>\n",
       "    <tr style=\"text-align: right;\">\n",
       "      <th></th>\n",
       "      <th>host_listings_count</th>\n",
       "      <th>latitude</th>\n",
       "      <th>longitude</th>\n",
       "      <th>accommodates</th>\n",
       "      <th>bathrooms</th>\n",
       "      <th>beds</th>\n",
       "      <th>price</th>\n",
       "      <th>minimum_nights</th>\n",
       "      <th>minimum_minimum_nights</th>\n",
       "      <th>maximum_minimum_nights</th>\n",
       "      <th>...</th>\n",
       "      <th>review_scores_rating</th>\n",
       "      <th>review_scores_cleanliness</th>\n",
       "      <th>review_scores_checkin</th>\n",
       "      <th>review_scores_location</th>\n",
       "      <th>calculated_host_listings_count</th>\n",
       "      <th>calculated_host_listings_count_entire_homes</th>\n",
       "      <th>calculated_host_listings_count_private_rooms</th>\n",
       "      <th>calculated_host_listings_count_shared_rooms</th>\n",
       "      <th>reviews_per_month</th>\n",
       "      <th>requires_license</th>\n",
       "    </tr>\n",
       "  </thead>\n",
       "  <tbody>\n",
       "    <tr>\n",
       "      <th>count</th>\n",
       "      <td>4987.000000</td>\n",
       "      <td>5000.000000</td>\n",
       "      <td>5000.000000</td>\n",
       "      <td>5000.000000</td>\n",
       "      <td>0.0</td>\n",
       "      <td>4833.000000</td>\n",
       "      <td>5000.000000</td>\n",
       "      <td>5000.000000</td>\n",
       "      <td>5000.000000</td>\n",
       "      <td>5000.000000</td>\n",
       "      <td>...</td>\n",
       "      <td>3991.000000</td>\n",
       "      <td>3938.000000</td>\n",
       "      <td>3936.000000</td>\n",
       "      <td>3937.000000</td>\n",
       "      <td>5000.000000</td>\n",
       "      <td>5000.000000</td>\n",
       "      <td>5000.000000</td>\n",
       "      <td>5000.000000</td>\n",
       "      <td>3991.000000</td>\n",
       "      <td>0.0</td>\n",
       "    </tr>\n",
       "    <tr>\n",
       "      <th>mean</th>\n",
       "      <td>24.187487</td>\n",
       "      <td>44.762968</td>\n",
       "      <td>4.613244</td>\n",
       "      <td>3.759600</td>\n",
       "      <td>NaN</td>\n",
       "      <td>2.415684</td>\n",
       "      <td>164.186400</td>\n",
       "      <td>23.390600</td>\n",
       "      <td>23.322000</td>\n",
       "      <td>24.623600</td>\n",
       "      <td>...</td>\n",
       "      <td>4.646873</td>\n",
       "      <td>4.696760</td>\n",
       "      <td>4.824446</td>\n",
       "      <td>4.771201</td>\n",
       "      <td>14.962000</td>\n",
       "      <td>13.453200</td>\n",
       "      <td>1.302200</td>\n",
       "      <td>0.074600</td>\n",
       "      <td>1.008797</td>\n",
       "      <td>NaN</td>\n",
       "    </tr>\n",
       "    <tr>\n",
       "      <th>std</th>\n",
       "      <td>136.223719</td>\n",
       "      <td>5.591468</td>\n",
       "      <td>9.270815</td>\n",
       "      <td>2.377254</td>\n",
       "      <td>NaN</td>\n",
       "      <td>1.926092</td>\n",
       "      <td>448.241916</td>\n",
       "      <td>81.770369</td>\n",
       "      <td>81.720127</td>\n",
       "      <td>83.049235</td>\n",
       "      <td>...</td>\n",
       "      <td>0.657875</td>\n",
       "      <td>0.441849</td>\n",
       "      <td>0.342287</td>\n",
       "      <td>0.345561</td>\n",
       "      <td>50.517492</td>\n",
       "      <td>49.910849</td>\n",
       "      <td>5.816738</td>\n",
       "      <td>1.223493</td>\n",
       "      <td>1.277416</td>\n",
       "      <td>NaN</td>\n",
       "    </tr>\n",
       "    <tr>\n",
       "      <th>min</th>\n",
       "      <td>0.000000</td>\n",
       "      <td>34.856170</td>\n",
       "      <td>-10.407010</td>\n",
       "      <td>0.000000</td>\n",
       "      <td>NaN</td>\n",
       "      <td>1.000000</td>\n",
       "      <td>0.000000</td>\n",
       "      <td>1.000000</td>\n",
       "      <td>1.000000</td>\n",
       "      <td>1.000000</td>\n",
       "      <td>...</td>\n",
       "      <td>0.000000</td>\n",
       "      <td>1.000000</td>\n",
       "      <td>1.000000</td>\n",
       "      <td>1.000000</td>\n",
       "      <td>1.000000</td>\n",
       "      <td>0.000000</td>\n",
       "      <td>0.000000</td>\n",
       "      <td>0.000000</td>\n",
       "      <td>0.010000</td>\n",
       "      <td>NaN</td>\n",
       "    </tr>\n",
       "    <tr>\n",
       "      <th>25%</th>\n",
       "      <td>1.000000</td>\n",
       "      <td>40.428480</td>\n",
       "      <td>-2.933962</td>\n",
       "      <td>2.000000</td>\n",
       "      <td>NaN</td>\n",
       "      <td>1.000000</td>\n",
       "      <td>51.000000</td>\n",
       "      <td>1.000000</td>\n",
       "      <td>1.000000</td>\n",
       "      <td>2.000000</td>\n",
       "      <td>...</td>\n",
       "      <td>4.580000</td>\n",
       "      <td>4.590000</td>\n",
       "      <td>4.800000</td>\n",
       "      <td>4.690000</td>\n",
       "      <td>1.000000</td>\n",
       "      <td>1.000000</td>\n",
       "      <td>0.000000</td>\n",
       "      <td>0.000000</td>\n",
       "      <td>0.180000</td>\n",
       "      <td>NaN</td>\n",
       "    </tr>\n",
       "    <tr>\n",
       "      <th>50%</th>\n",
       "      <td>1.000000</td>\n",
       "      <td>43.770835</td>\n",
       "      <td>2.823775</td>\n",
       "      <td>3.000000</td>\n",
       "      <td>NaN</td>\n",
       "      <td>2.000000</td>\n",
       "      <td>82.000000</td>\n",
       "      <td>2.000000</td>\n",
       "      <td>2.000000</td>\n",
       "      <td>3.000000</td>\n",
       "      <td>...</td>\n",
       "      <td>4.800000</td>\n",
       "      <td>4.830000</td>\n",
       "      <td>4.940000</td>\n",
       "      <td>4.880000</td>\n",
       "      <td>2.000000</td>\n",
       "      <td>1.000000</td>\n",
       "      <td>0.000000</td>\n",
       "      <td>0.000000</td>\n",
       "      <td>0.510000</td>\n",
       "      <td>NaN</td>\n",
       "    </tr>\n",
       "    <tr>\n",
       "      <th>75%</th>\n",
       "      <td>5.000000</td>\n",
       "      <td>48.874940</td>\n",
       "      <td>12.301380</td>\n",
       "      <td>5.000000</td>\n",
       "      <td>NaN</td>\n",
       "      <td>3.000000</td>\n",
       "      <td>140.000000</td>\n",
       "      <td>4.000000</td>\n",
       "      <td>4.000000</td>\n",
       "      <td>5.000000</td>\n",
       "      <td>...</td>\n",
       "      <td>5.000000</td>\n",
       "      <td>5.000000</td>\n",
       "      <td>5.000000</td>\n",
       "      <td>5.000000</td>\n",
       "      <td>6.000000</td>\n",
       "      <td>4.000000</td>\n",
       "      <td>1.000000</td>\n",
       "      <td>0.000000</td>\n",
       "      <td>1.340000</td>\n",
       "      <td>NaN</td>\n",
       "    </tr>\n",
       "    <tr>\n",
       "      <th>max</th>\n",
       "      <td>3750.000000</td>\n",
       "      <td>55.723030</td>\n",
       "      <td>26.246470</td>\n",
       "      <td>16.000000</td>\n",
       "      <td>NaN</td>\n",
       "      <td>30.000000</td>\n",
       "      <td>10000.000000</td>\n",
       "      <td>1100.000000</td>\n",
       "      <td>1100.000000</td>\n",
       "      <td>1100.000000</td>\n",
       "      <td>...</td>\n",
       "      <td>5.000000</td>\n",
       "      <td>5.000000</td>\n",
       "      <td>5.000000</td>\n",
       "      <td>5.000000</td>\n",
       "      <td>729.000000</td>\n",
       "      <td>726.000000</td>\n",
       "      <td>158.000000</td>\n",
       "      <td>45.000000</td>\n",
       "      <td>10.390000</td>\n",
       "      <td>NaN</td>\n",
       "    </tr>\n",
       "  </tbody>\n",
       "</table>\n",
       "<p>8 rows × 29 columns</p>\n",
       "</div>"
      ],
      "text/plain": [
       "       host_listings_count     latitude    longitude  accommodates  bathrooms  \\\n",
       "count          4987.000000  5000.000000  5000.000000   5000.000000        0.0   \n",
       "mean             24.187487    44.762968     4.613244      3.759600        NaN   \n",
       "std             136.223719     5.591468     9.270815      2.377254        NaN   \n",
       "min               0.000000    34.856170   -10.407010      0.000000        NaN   \n",
       "25%               1.000000    40.428480    -2.933962      2.000000        NaN   \n",
       "50%               1.000000    43.770835     2.823775      3.000000        NaN   \n",
       "75%               5.000000    48.874940    12.301380      5.000000        NaN   \n",
       "max            3750.000000    55.723030    26.246470     16.000000        NaN   \n",
       "\n",
       "              beds         price  minimum_nights  minimum_minimum_nights  \\\n",
       "count  4833.000000   5000.000000     5000.000000             5000.000000   \n",
       "mean      2.415684    164.186400       23.390600               23.322000   \n",
       "std       1.926092    448.241916       81.770369               81.720127   \n",
       "min       1.000000      0.000000        1.000000                1.000000   \n",
       "25%       1.000000     51.000000        1.000000                1.000000   \n",
       "50%       2.000000     82.000000        2.000000                2.000000   \n",
       "75%       3.000000    140.000000        4.000000                4.000000   \n",
       "max      30.000000  10000.000000     1100.000000             1100.000000   \n",
       "\n",
       "       maximum_minimum_nights  ...  review_scores_rating  \\\n",
       "count             5000.000000  ...           3991.000000   \n",
       "mean                24.623600  ...              4.646873   \n",
       "std                 83.049235  ...              0.657875   \n",
       "min                  1.000000  ...              0.000000   \n",
       "25%                  2.000000  ...              4.580000   \n",
       "50%                  3.000000  ...              4.800000   \n",
       "75%                  5.000000  ...              5.000000   \n",
       "max               1100.000000  ...              5.000000   \n",
       "\n",
       "       review_scores_cleanliness  review_scores_checkin  \\\n",
       "count                3938.000000            3936.000000   \n",
       "mean                    4.696760               4.824446   \n",
       "std                     0.441849               0.342287   \n",
       "min                     1.000000               1.000000   \n",
       "25%                     4.590000               4.800000   \n",
       "50%                     4.830000               4.940000   \n",
       "75%                     5.000000               5.000000   \n",
       "max                     5.000000               5.000000   \n",
       "\n",
       "       review_scores_location  calculated_host_listings_count  \\\n",
       "count             3937.000000                     5000.000000   \n",
       "mean                 4.771201                       14.962000   \n",
       "std                  0.345561                       50.517492   \n",
       "min                  1.000000                        1.000000   \n",
       "25%                  4.690000                        1.000000   \n",
       "50%                  4.880000                        2.000000   \n",
       "75%                  5.000000                        6.000000   \n",
       "max                  5.000000                      729.000000   \n",
       "\n",
       "       calculated_host_listings_count_entire_homes  \\\n",
       "count                                  5000.000000   \n",
       "mean                                     13.453200   \n",
       "std                                      49.910849   \n",
       "min                                       0.000000   \n",
       "25%                                       1.000000   \n",
       "50%                                       1.000000   \n",
       "75%                                       4.000000   \n",
       "max                                     726.000000   \n",
       "\n",
       "       calculated_host_listings_count_private_rooms  \\\n",
       "count                                   5000.000000   \n",
       "mean                                       1.302200   \n",
       "std                                        5.816738   \n",
       "min                                        0.000000   \n",
       "25%                                        0.000000   \n",
       "50%                                        0.000000   \n",
       "75%                                        1.000000   \n",
       "max                                      158.000000   \n",
       "\n",
       "       calculated_host_listings_count_shared_rooms  reviews_per_month  \\\n",
       "count                                  5000.000000        3991.000000   \n",
       "mean                                      0.074600           1.008797   \n",
       "std                                       1.223493           1.277416   \n",
       "min                                       0.000000           0.010000   \n",
       "25%                                       0.000000           0.180000   \n",
       "50%                                       0.000000           0.510000   \n",
       "75%                                       0.000000           1.340000   \n",
       "max                                      45.000000          10.390000   \n",
       "\n",
       "       requires_license  \n",
       "count               0.0  \n",
       "mean                NaN  \n",
       "std                 NaN  \n",
       "min                 NaN  \n",
       "25%                 NaN  \n",
       "50%                 NaN  \n",
       "75%                 NaN  \n",
       "max                 NaN  \n",
       "\n",
       "[8 rows x 29 columns]"
      ]
     },
     "execution_count": 8,
     "metadata": {},
     "output_type": "execute_result"
    }
   ],
   "source": [
    "df_sample.describe()"
   ]
  },
  {
   "cell_type": "code",
   "execution_count": 9,
   "metadata": {},
   "outputs": [
    {
     "name": "stdout",
     "output_type": "stream",
     "text": [
      "<class 'pandas.core.frame.DataFrame'>\n",
      "RangeIndex: 5000 entries, 0 to 4999\n",
      "Data columns (total 68 columns):\n",
      " #   Column                                        Non-Null Count  Dtype  \n",
      "---  ------                                        --------------  -----  \n",
      " 0   id                                            5000 non-null   object \n",
      " 1   name                                          4999 non-null   object \n",
      " 2   description                                   4929 non-null   object \n",
      " 3   neighborhood_overview                         2923 non-null   object \n",
      " 4   host_name                                     4987 non-null   object \n",
      " 5   host_since                                    4987 non-null   object \n",
      " 6   host_location                                 4981 non-null   object \n",
      " 7   host_about                                    2643 non-null   object \n",
      " 8   host_response_time                            3242 non-null   object \n",
      " 9   host_response_rate                            3242 non-null   object \n",
      " 10  host_acceptance_rate                          3536 non-null   object \n",
      " 11  host_is_superhost                             4987 non-null   object \n",
      " 12  host_picture_url                              4987 non-null   object \n",
      " 13  host_neighbourhood                            2434 non-null   object \n",
      " 14  host_listings_count                           4987 non-null   float64\n",
      " 15  host_total_listings_count                     4987 non-null   object \n",
      " 16  host_verifications                            5000 non-null   object \n",
      " 17  host_has_profile_pic                          4987 non-null   object \n",
      " 18  host_identity_verified                        4987 non-null   object \n",
      " 19  neighbourhood                                 2923 non-null   object \n",
      " 20  neighbourhood_cleansed                        4645 non-null   object \n",
      " 21  neighbourhood_group_cleansed                  1384 non-null   object \n",
      " 22  latitude                                      5000 non-null   float64\n",
      " 23  longitude                                     5000 non-null   float64\n",
      " 24  property_type                                 5000 non-null   object \n",
      " 25  room_type                                     5000 non-null   object \n",
      " 26  accommodates                                  5000 non-null   float64\n",
      " 27  bathrooms                                     0 non-null      float64\n",
      " 28  bathrooms_text                                4990 non-null   object \n",
      " 29  bedrooms                                      4650 non-null   object \n",
      " 30  beds                                          4833 non-null   float64\n",
      " 31  amenities                                     5000 non-null   object \n",
      " 32  price                                         5000 non-null   float64\n",
      " 33  minimum_nights                                5000 non-null   float64\n",
      " 34  maximum_nights                                5000 non-null   object \n",
      " 35  minimum_minimum_nights                        5000 non-null   float64\n",
      " 36  maximum_minimum_nights                        5000 non-null   float64\n",
      " 37  minimum_maximum_nights                        5000 non-null   float64\n",
      " 38  maximum_maximum_nights                        5000 non-null   object \n",
      " 39  minimum_nights_avg_ntm                        5000 non-null   object \n",
      " 40  maximum_nights_avg_ntm                        5000 non-null   float64\n",
      " 41  calendar_updated                              0 non-null      float64\n",
      " 42  has_availability                              5000 non-null   object \n",
      " 43  availability_30                               5000 non-null   float64\n",
      " 44  availability_60                               5000 non-null   float64\n",
      " 45  availability_90                               5000 non-null   float64\n",
      " 46  availability_365                              5000 non-null   float64\n",
      " 47  calendar_last_scraped                         5000 non-null   object \n",
      " 48  number_of_reviews                             5000 non-null   object \n",
      " 49  number_of_reviews_ltm                         5000 non-null   float64\n",
      " 50  number_of_reviews_l30d                        5000 non-null   float64\n",
      " 51  first_review                                  3991 non-null   object \n",
      " 52  last_review                                   3991 non-null   object \n",
      " 53  review_scores_rating                          3991 non-null   float64\n",
      " 54  review_scores_accuracy                        3937 non-null   object \n",
      " 55  review_scores_cleanliness                     3938 non-null   float64\n",
      " 56  review_scores_checkin                         3936 non-null   float64\n",
      " 57  review_scores_communication                   3938 non-null   object \n",
      " 58  review_scores_location                        3937 non-null   float64\n",
      " 59  review_scores_value                           3937 non-null   object \n",
      " 60  instant_bookable                              5000 non-null   object \n",
      " 61  calculated_host_listings_count                5000 non-null   float64\n",
      " 62  calculated_host_listings_count_entire_homes   5000 non-null   float64\n",
      " 63  calculated_host_listings_count_private_rooms  5000 non-null   float64\n",
      " 64  calculated_host_listings_count_shared_rooms   5000 non-null   float64\n",
      " 65  reviews_per_month                             3991 non-null   float64\n",
      " 66  last_searched                                 251 non-null    object \n",
      " 67  requires_license                              0 non-null      float64\n",
      "dtypes: float64(29), object(39)\n",
      "memory usage: 2.6+ MB\n"
     ]
    }
   ],
   "source": [
    "df_sample.info()"
   ]
  },
  {
   "cell_type": "code",
   "execution_count": 10,
   "metadata": {},
   "outputs": [
    {
     "data": {
      "text/plain": [
       "id                                              440\n",
       "name                                            440\n",
       "description                                     434\n",
       "neighborhood_overview                           229\n",
       "host_name                                       440\n",
       "                                               ... \n",
       "calculated_host_listings_count_private_rooms    440\n",
       "calculated_host_listings_count_shared_rooms     440\n",
       "reviews_per_month                               339\n",
       "last_searched                                    21\n",
       "requires_license                                  0\n",
       "Length: 68, dtype: int64"
      ]
     },
     "execution_count": 10,
     "metadata": {},
     "output_type": "execute_result"
    }
   ],
   "source": [
    "lista_UV = []\n",
    "for col in CF.num_NaNs(df_sample, n=1000):\n",
    "    lista_UV.append((df_sample[col].unique(), col))\n",
    "lista_UV[2]\n",
    "df_sample[df_sample.host_response_time == 'within a day'].count()"
   ]
  },
  {
   "cell_type": "code",
   "execution_count": 11,
   "metadata": {},
   "outputs": [
    {
     "name": "stderr",
     "output_type": "stream",
     "text": [
      "/tmp/ipykernel_8878/3964635950.py:2: DtypeWarning: Columns (0,2,22,40,44,45,54,60,63,65) have mixed types. Specify dtype option on import or set low_memory=False.\n",
      "  test = pd.read_csv('../Data/test.csv')\n"
     ]
    }
   ],
   "source": [
    "# Let's also take a look on the test we are gonna use,\n",
    "test = pd.read_csv('../Data/test.csv')\n"
   ]
  },
  {
   "cell_type": "code",
   "execution_count": 12,
   "metadata": {},
   "outputs": [
    {
     "name": "stdout",
     "output_type": "stream",
     "text": [
      "<class 'pandas.core.frame.DataFrame'>\n",
      "RangeIndex: 87922 entries, 0 to 87921\n",
      "Data columns (total 67 columns):\n",
      " #   Column                                        Non-Null Count  Dtype  \n",
      "---  ------                                        --------------  -----  \n",
      " 0   id                                            87917 non-null  object \n",
      " 1   name                                          87889 non-null  object \n",
      " 2   description                                   86405 non-null  object \n",
      " 3   neighborhood_overview                         51448 non-null  object \n",
      " 4   host_name                                     87776 non-null  object \n",
      " 5   host_since                                    87776 non-null  object \n",
      " 6   host_location                                 87596 non-null  object \n",
      " 7   host_about                                    46620 non-null  object \n",
      " 8   host_response_time                            57263 non-null  object \n",
      " 9   host_response_rate                            57261 non-null  object \n",
      " 10  host_acceptance_rate                          62513 non-null  object \n",
      " 11  host_is_superhost                             87767 non-null  object \n",
      " 12  host_picture_url                              87767 non-null  object \n",
      " 13  host_neighbourhood                            42473 non-null  object \n",
      " 14  host_listings_count                           87758 non-null  float64\n",
      " 15  host_total_listings_count                     87767 non-null  object \n",
      " 16  host_verifications                            87912 non-null  object \n",
      " 17  host_has_profile_pic                          87766 non-null  object \n",
      " 18  host_identity_verified                        87767 non-null  object \n",
      " 19  neighbourhood                                 51441 non-null  object \n",
      " 20  neighbourhood_cleansed                        81530 non-null  object \n",
      " 21  neighbourhood_group_cleansed                  23741 non-null  object \n",
      " 22  latitude                                      87913 non-null  float64\n",
      " 23  longitude                                     87913 non-null  float64\n",
      " 24  property_type                                 87913 non-null  object \n",
      " 25  room_type                                     87913 non-null  object \n",
      " 26  accommodates                                  87913 non-null  float64\n",
      " 27  bathrooms                                     0 non-null      float64\n",
      " 28  bathrooms_text                                87739 non-null  object \n",
      " 29  bedrooms                                      81422 non-null  float64\n",
      " 30  beds                                          85301 non-null  float64\n",
      " 31  amenities                                     87913 non-null  object \n",
      " 32  minimum_nights                                87913 non-null  float64\n",
      " 33  maximum_nights                                87913 non-null  object \n",
      " 34  minimum_minimum_nights                        87908 non-null  float64\n",
      " 35  maximum_minimum_nights                        87908 non-null  float64\n",
      " 36  minimum_maximum_nights                        87908 non-null  float64\n",
      " 37  maximum_maximum_nights                        87908 non-null  object \n",
      " 38  minimum_nights_avg_ntm                        87908 non-null  object \n",
      " 39  maximum_nights_avg_ntm                        87908 non-null  float64\n",
      " 40  calendar_updated                              9 non-null      float64\n",
      " 41  has_availability                              87913 non-null  object \n",
      " 42  availability_30                               87913 non-null  float64\n",
      " 43  availability_60                               87913 non-null  float64\n",
      " 44  availability_90                               87913 non-null  float64\n",
      " 45  availability_365                              87913 non-null  float64\n",
      " 46  calendar_last_scraped                         87908 non-null  object \n",
      " 47  number_of_reviews                             87913 non-null  object \n",
      " 48  number_of_reviews_ltm                         87913 non-null  float64\n",
      " 49  number_of_reviews_l30d                        87913 non-null  float64\n",
      " 50  first_review                                  70170 non-null  object \n",
      " 51  last_review                                   70170 non-null  object \n",
      " 52  review_scores_rating                          70170 non-null  float64\n",
      " 53  review_scores_accuracy                        69358 non-null  object \n",
      " 54  review_scores_cleanliness                     69360 non-null  float64\n",
      " 55  review_scores_checkin                         69337 non-null  float64\n",
      " 56  review_scores_communication                   69351 non-null  object \n",
      " 57  review_scores_location                        69332 non-null  float64\n",
      " 58  review_scores_value                           69331 non-null  object \n",
      " 59  instant_bookable                              87906 non-null  object \n",
      " 60  calculated_host_listings_count                87904 non-null  float64\n",
      " 61  calculated_host_listings_count_entire_homes   87904 non-null  float64\n",
      " 62  calculated_host_listings_count_private_rooms  87904 non-null  float64\n",
      " 63  calculated_host_listings_count_shared_rooms   87904 non-null  float64\n",
      " 64  reviews_per_month                             70161 non-null  float64\n",
      " 65  last_searched                                 4568 non-null   object \n",
      " 66  requires_license                              0 non-null      float64\n",
      "dtypes: float64(29), object(38)\n",
      "memory usage: 44.9+ MB\n"
     ]
    }
   ],
   "source": [
    "CF.Clean_columns(test).info()"
   ]
  },
  {
   "cell_type": "code",
   "execution_count": 13,
   "metadata": {},
   "outputs": [],
   "source": [
    "df_sample_lowp = df_sample[df_sample.price < 1000] # Let's take just the lower prices to observe the distribution\n",
    "df_sample_highp = df_sample[df_sample.price > 1000]\n",
    "df_sample_vlowp = df_sample[df_sample.price < 300]"
   ]
  },
  {
   "cell_type": "code",
   "execution_count": 14,
   "metadata": {},
   "outputs": [
    {
     "data": {
      "text/plain": [
       "0    50.0\n",
       "Name: price, dtype: float64"
      ]
     },
     "execution_count": 14,
     "metadata": {},
     "output_type": "execute_result"
    }
   ],
   "source": [
    "df_sample_vlowp.price.mode()"
   ]
  },
  {
   "cell_type": "code",
   "execution_count": 15,
   "metadata": {},
   "outputs": [
    {
     "data": {
      "text/plain": [
       "<seaborn.axisgrid.FacetGrid at 0x7f2e7463e910>"
      ]
     },
     "execution_count": 15,
     "metadata": {},
     "output_type": "execute_result"
    },
    {
     "data": {
      "image/png": "[encoded data removed]",
      "text/plain": [
       "<Figure size 360x360 with 1 Axes>"
      ]
     },
     "metadata": {
      "needs_background": "light"
     },
     "output_type": "display_data"
    }
   ],
   "source": [
    "sns.displot(data=df_sample_vlowp, x='price', kind='hist',kde=True)\n"
   ]
  },
  {
   "cell_type": "code",
   "execution_count": 16,
   "metadata": {},
   "outputs": [
    {
     "name": "stderr",
     "output_type": "stream",
     "text": [
      "/home/pomilusky/.local/lib/python3.8/site-packages/seaborn/distributions.py:2619: FutureWarning: `distplot` is a deprecated function and will be removed in a future version. Please adapt your code to use either `displot` (a figure-level function with similar flexibility) or `histplot` (an axes-level function for histograms).\n",
      "  warnings.warn(msg, FutureWarning)\n"
     ]
    },
    {
     "data": {
      "image/png": "[encoded data removed]",
      "text/plain": [
       "<Figure size 432x288 with 1 Axes>"
      ]
     },
     "metadata": {
      "needs_background": "light"
     },
     "output_type": "display_data"
    }
   ],
   "source": [
    "# Behaviour in the rank of thelow prices\n",
    "sns.distplot(df_sample_lowp.price,\n",
    "             hist_kws={'cumulative': True},\n",
    "             kde_kws={'cumulative': True}); "
   ]
  },
  {
   "cell_type": "code",
   "execution_count": 17,
   "metadata": {},
   "outputs": [
    {
     "name": "stderr",
     "output_type": "stream",
     "text": [
      "/home/pomilusky/.local/lib/python3.8/site-packages/seaborn/distributions.py:2619: FutureWarning: `distplot` is a deprecated function and will be removed in a future version. Please adapt your code to use either `displot` (a figure-level function with similar flexibility) or `histplot` (an axes-level function for histograms).\n",
      "  warnings.warn(msg, FutureWarning)\n"
     ]
    },
    {
     "data": {
      "image/png": "[encoded data removed]",
      "text/plain": [
       "<Figure size 432x288 with 1 Axes>"
      ]
     },
     "metadata": {
      "needs_background": "light"
     },
     "output_type": "display_data"
    }
   ],
   "source": [
    "# Behaviour of higher prices,\n",
    "sns.distplot(df_sample_vlowp.price,\n",
    "            #bins = 5000,\n",
    "            hist_kws={'cumulative': True},\n",
    "            kde_kws={'cumulative': True}); "
   ]
  },
  {
   "cell_type": "code",
   "execution_count": null,
   "metadata": {},
   "outputs": [],
   "source": []
  }
 ],
 "metadata": {
  "interpreter": {
   "hash": "4034f9195f5552b4454ef60198efa491d941068725cfe9b8182a5b0158f58c43"
  },
  "kernelspec": {
   "display_name": "Python 3.8.12 ('ironhack')",
   "language": "python",
   "name": "python3"
  },
  "language_info": {
   "codemirror_mode": {
    "name": "ipython",
    "version": 3
   },
   "file_extension": ".py",
   "mimetype": "text/x-python",
   "name": "python",
   "nbconvert_exporter": "python",
   "pygments_lexer": "ipython3",
   "version": "3.8.12"
  },
  "orig_nbformat": 4
 },
 "nbformat": 4,
 "nbformat_minor": 2
}
