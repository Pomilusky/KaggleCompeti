{
 "cells": [
  {
   "cell_type": "code",
   "execution_count": 45,
   "metadata": {},
   "outputs": [],
   "source": [
    "import Cleaning_fun as clfun\n",
    "import pandas as pd"
   ]
  },
  {
   "cell_type": "code",
   "execution_count": 54,
   "metadata": {},
   "outputs": [],
   "source": [
    "def Cleanance(file_name):\n",
    "    df = pd.read_csv(f'../Data/{file_name}.csv')\n",
    "    if 'train' in file_name: df.dropna(subset=['price'], inplace=True)\n",
    "    df = clfun.Clean_columns(df)\n",
    "    df = clfun.vectorize(df)\n",
    "    \n",
    "    return df"
   ]
  },
  {
   "cell_type": "code",
   "execution_count": 55,
   "metadata": {},
   "outputs": [],
   "source": [
    "Cleanance('TRAIN').to_csv('../Data/new_train.csv',mode='w', index=False, header=True)"
   ]
  },
  {
   "cell_type": "code",
   "execution_count": 56,
   "metadata": {},
   "outputs": [],
   "source": [
    "df = pd.read_csv('../Data/new_train.csv')\n",
    "df.host_acceptance_rate.fillna(df.host_acceptance_rate.mean(), inplace =True)\n",
    "df.dropna(subset=['review_scores_location'], inplace=True)\n",
    "df.bedrooms.fillna(df.accommodates/2, inplace=True)\n",
    "\n",
    "df['room_pp'] = df.apply(lambda x: (x.bedrooms+x.bathrooms_text)/x.accommodates if x.accommodates != 0 else (x.bedrooms+x.bathrooms_text), axis=1)\n",
    "df.drop(columns = ['bedrooms','bathrooms_text','accommodates'], inplace=True)\n",
    "\n",
    "df['private'] = df.apply(lambda x: (x.private_room+x.hotel_room), axis=1)\n",
    "df.drop(columns = ['hotel_room','private_room'], inplace=True)\n",
    "df.drop(columns='host_neighbourhood', inplace=True)\n",
    "df = df[df.price != 0]\n",
    "df = df[df.price < 450]\n"
   ]
  },
  {
   "cell_type": "code",
   "execution_count": 57,
   "metadata": {},
   "outputs": [
    {
     "data": {
      "text/plain": [
       "(3683, 64)"
      ]
     },
     "execution_count": 57,
     "metadata": {},
     "output_type": "execute_result"
    }
   ],
   "source": [
    "df.shape"
   ]
  },
  {
   "cell_type": "code",
   "execution_count": 13,
   "metadata": {},
   "outputs": [],
   "source": [
    "df.to_csv('../Data/new_train.csv',mode='w', index=False, header=True) "
   ]
  },
  {
   "cell_type": "code",
   "execution_count": 14,
   "metadata": {},
   "outputs": [],
   "source": [
    "Cleanance('TEST').to_csv('../Data/new_test.csv',mode='w', index=False, header=True)"
   ]
  },
  {
   "cell_type": "code",
   "execution_count": 15,
   "metadata": {},
   "outputs": [],
   "source": [
    "df = pd.read_csv('../Data/new_test.csv')\n",
    "# keep = ['host_acceptance_rate','host_is_superhost','review_scores_location','reviews_per_month','dist_cent','private_room','hotel_room','bedrooms','bathrooms_text','accommodates']\n",
    "# df = df[keep]\n",
    "\n",
    "df.host_acceptance_rate.fillna(df.host_acceptance_rate.mean(), inplace =True)\n",
    "df.review_scores_location.fillna(df.review_scores_location.mode(), inplace=True)\n",
    "df.bedrooms.fillna(df.accommodates/2, inplace=True)\n",
    "\n",
    "df['room_pp'] = df.apply(lambda x: (x.bedrooms+x.bathrooms_text)/x.accommodates if x.accommodates != 0 else (x.bedrooms+x.bathrooms_text), axis=1)\n",
    "df.drop(columns = ['bedrooms','bathrooms_text','accommodates'], inplace=True)\n",
    "\n",
    "df['private'] = df.apply(lambda x: (x.private_room+x.hotel_room), axis=1)\n",
    "df.drop(columns = ['hotel_room','private_room'], inplace=True)\n",
    "df.drop(columns='host_neighbourhood', inplace=True)\n"
   ]
  },
  {
   "cell_type": "code",
   "execution_count": 16,
   "metadata": {},
   "outputs": [],
   "source": [
    "df.to_csv('../Data/new_test.csv',mode='w', index=False, header=True) "
   ]
  },
  {
   "cell_type": "code",
   "execution_count": null,
   "metadata": {},
   "outputs": [],
   "source": []
  }
 ],
 "metadata": {
  "interpreter": {
   "hash": "4034f9195f5552b4454ef60198efa491d941068725cfe9b8182a5b0158f58c43"
  },
  "kernelspec": {
   "display_name": "Python 3.8.12 ('ironhack': conda)",
   "language": "python",
   "name": "python3"
  },
  "language_info": {
   "codemirror_mode": {
    "name": "ipython",
    "version": 3
   },
   "file_extension": ".py",
   "mimetype": "text/x-python",
   "name": "python",
   "nbconvert_exporter": "python",
   "pygments_lexer": "ipython3",
   "version": "3.8.12"
  },
  "orig_nbformat": 4
 },
 "nbformat": 4,
 "nbformat_minor": 2
}
