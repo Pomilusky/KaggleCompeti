{
 "cells": [
  {
   "cell_type": "code",
   "execution_count": 53,
   "metadata": {},
   "outputs": [],
   "source": [
    "import h2o\n",
    "import pandas as pd\n",
    "from h2o.automl import H2OAutoML\n",
    "from sklearn.model_selection import train_test_split as tts"
   ]
  },
  {
   "cell_type": "code",
   "execution_count": 54,
   "metadata": {},
   "outputs": [
    {
     "name": "stdout",
     "output_type": "stream",
     "text": [
      "Checking whether there is an H2O instance running at http://localhost:54321 . connected.\n"
     ]
    },
    {
     "data": {
      "text/html": [
       "<div style=\"overflow:auto\"><table style=\"width:50%\"><tr><td>H2O_cluster_uptime:</td>\n",
       "<td>3 hours 59 mins</td></tr>\n",
       "<tr><td>H2O_cluster_timezone:</td>\n",
       "<td>Europe/Madrid</td></tr>\n",
       "<tr><td>H2O_data_parsing_timezone:</td>\n",
       "<td>UTC</td></tr>\n",
       "<tr><td>H2O_cluster_version:</td>\n",
       "<td>3.36.0.3</td></tr>\n",
       "<tr><td>H2O_cluster_version_age:</td>\n",
       "<td>7 days, 20 hours and 45 minutes </td></tr>\n",
       "<tr><td>H2O_cluster_name:</td>\n",
       "<td>H2O_from_python_pomilusky_uk74x7</td></tr>\n",
       "<tr><td>H2O_cluster_total_nodes:</td>\n",
       "<td>1</td></tr>\n",
       "<tr><td>H2O_cluster_free_memory:</td>\n",
       "<td>2.659 Gb</td></tr>\n",
       "<tr><td>H2O_cluster_total_cores:</td>\n",
       "<td>16</td></tr>\n",
       "<tr><td>H2O_cluster_allowed_cores:</td>\n",
       "<td>16</td></tr>\n",
       "<tr><td>H2O_cluster_status:</td>\n",
       "<td>locked, healthy</td></tr>\n",
       "<tr><td>H2O_connection_url:</td>\n",
       "<td>http://localhost:54321</td></tr>\n",
       "<tr><td>H2O_connection_proxy:</td>\n",
       "<td>{\"http\": null, \"https\": null}</td></tr>\n",
       "<tr><td>H2O_internal_security:</td>\n",
       "<td>False</td></tr>\n",
       "<tr><td>Python_version:</td>\n",
       "<td>3.8.12 final</td></tr></table></div>"
      ],
      "text/plain": [
       "--------------------------  --------------------------------\n",
       "H2O_cluster_uptime:         3 hours 59 mins\n",
       "H2O_cluster_timezone:       Europe/Madrid\n",
       "H2O_data_parsing_timezone:  UTC\n",
       "H2O_cluster_version:        3.36.0.3\n",
       "H2O_cluster_version_age:    7 days, 20 hours and 45 minutes\n",
       "H2O_cluster_name:           H2O_from_python_pomilusky_uk74x7\n",
       "H2O_cluster_total_nodes:    1\n",
       "H2O_cluster_free_memory:    2.659 Gb\n",
       "H2O_cluster_total_cores:    16\n",
       "H2O_cluster_allowed_cores:  16\n",
       "H2O_cluster_status:         locked, healthy\n",
       "H2O_connection_url:         http://localhost:54321\n",
       "H2O_connection_proxy:       {\"http\": null, \"https\": null}\n",
       "H2O_internal_security:      False\n",
       "Python_version:             3.8.12 final\n",
       "--------------------------  --------------------------------"
      ]
     },
     "metadata": {},
     "output_type": "display_data"
    }
   ],
   "source": [
    "h2o.init()"
   ]
  },
  {
   "cell_type": "code",
   "execution_count": 55,
   "metadata": {},
   "outputs": [],
   "source": [
    "df = pd.read_csv('../Data/new_train.csv')\n",
    "train, test = tts(df, test_size=0.3, train_size= 0.7, random_state = 7)\n",
    "train.to_csv('../Data/h20_train.csv')\n",
    "test.to_csv('../Data/h20_test.csv')"
   ]
  },
  {
   "cell_type": "code",
   "execution_count": 56,
   "metadata": {},
   "outputs": [
    {
     "name": "stdout",
     "output_type": "stream",
     "text": [
      "Parse progress: |████████████████████████████████████████████████████████████████| (done) 100%\n",
      "Parse progress: |████████████████████████████████████████████████████████████████| (done) 100%\n"
     ]
    }
   ],
   "source": [
    "train = h2o.import_file('../Data/h20_train.csv')\n",
    "test = h2o.import_file('../Data/h20_test.csv')\n"
   ]
  },
  {
   "cell_type": "code",
   "execution_count": 57,
   "metadata": {},
   "outputs": [],
   "source": [
    "X =train.columns\n",
    "y = 'price'\n",
    "X.remove(y)"
   ]
  },
  {
   "cell_type": "code",
   "execution_count": 43,
   "metadata": {},
   "outputs": [],
   "source": [
    "# train[y]=train[y].asfactor()\n",
    "# test[y]=test[y].asfactor()"
   ]
  },
  {
   "cell_type": "code",
   "execution_count": 58,
   "metadata": {},
   "outputs": [
    {
     "name": "stdout",
     "output_type": "stream",
     "text": [
      "AutoML progress: |███████████████████████████████████████████████████████████████| (done) 100%\n",
      "\n",
      "15:37:00.684: GBM_lr_annealing_selection_AutoML_8_20220224_143731 [GBM lr_annealing] failed: water.exceptions.H2OIllegalArgumentException: Can only convert jobs producing a single Model or ModelContainer.\n",
      "\n",
      "Model Details\n",
      "=============\n",
      "H2OStackedEnsembleEstimator :  Stacked Ensemble\n",
      "Model Key:  StackedEnsemble_BestOfFamily_4_AutoML_8_20220224_143731\n",
      "\n",
      "No model summary for this model\n",
      "\n",
      "ModelMetricsRegressionGLM: stackedensemble\n",
      "** Reported on train data. **\n",
      "\n",
      "MSE: 1219.2277909666875\n",
      "RMSE: 34.917442503234504\n",
      "MAE: 17.18518207856428\n",
      "RMSLE: 0.20588613731552724\n",
      "R^2: 0.9086770829267786\n",
      "Mean Residual Deviance: 1219.2277909666875\n",
      "Null degrees of freedom: 2646\n",
      "Residual degrees of freedom: 2642\n",
      "Null deviance: 35339387.59425765\n",
      "Residual deviance: 3227295.962688822\n",
      "AIC: 26333.371070464957\n",
      "\n",
      "ModelMetricsRegressionGLM: stackedensemble\n",
      "** Reported on cross-validation data. **\n",
      "\n",
      "MSE: 4140.194429289391\n",
      "RMSE: 64.34434263623642\n",
      "MAE: 28.504609336589827\n",
      "RMSLE: NaN\n",
      "R^2: 0.6898900801521026\n",
      "Mean Residual Deviance: 4140.194429289391\n",
      "Null degrees of freedom: 2646\n",
      "Residual degrees of freedom: 2642\n",
      "Null deviance: 35345505.665858395\n",
      "Residual deviance: 10959094.654329019\n",
      "AIC: 29569.39487837725\n"
     ]
    },
    {
     "data": {
      "text/plain": []
     },
     "execution_count": 58,
     "metadata": {},
     "output_type": "execute_result"
    }
   ],
   "source": [
    "aml=H2OAutoML()\n",
    "aml.train(x=X, y=y, training_frame=train)"
   ]
  },
  {
   "cell_type": "code",
   "execution_count": 59,
   "metadata": {},
   "outputs": [
    {
     "name": "stdout",
     "output_type": "stream",
     "text": [
      "Model Details\n",
      "=============\n",
      "H2OStackedEnsembleEstimator :  Stacked Ensemble\n",
      "Model Key:  StackedEnsemble_BestOfFamily_4_AutoML_8_20220224_143731\n",
      "\n",
      "No model summary for this model\n",
      "\n",
      "ModelMetricsRegressionGLM: stackedensemble\n",
      "** Reported on train data. **\n",
      "\n",
      "MSE: 1219.2277909666875\n",
      "RMSE: 34.917442503234504\n",
      "MAE: 17.18518207856428\n",
      "RMSLE: 0.20588613731552724\n",
      "R^2: 0.9086770829267786\n",
      "Mean Residual Deviance: 1219.2277909666875\n",
      "Null degrees of freedom: 2646\n",
      "Residual degrees of freedom: 2642\n",
      "Null deviance: 35339387.59425765\n",
      "Residual deviance: 3227295.962688822\n",
      "AIC: 26333.371070464957\n",
      "\n",
      "ModelMetricsRegressionGLM: stackedensemble\n",
      "** Reported on cross-validation data. **\n",
      "\n",
      "MSE: 4140.194429289391\n",
      "RMSE: 64.34434263623642\n",
      "MAE: 28.504609336589827\n",
      "RMSLE: NaN\n",
      "R^2: 0.6898900801521026\n",
      "Mean Residual Deviance: 4140.194429289391\n",
      "Null degrees of freedom: 2646\n",
      "Residual degrees of freedom: 2642\n",
      "Null deviance: 35345505.665858395\n",
      "Residual deviance: 10959094.654329019\n",
      "AIC: 29569.39487837725\n"
     ]
    },
    {
     "data": {
      "text/plain": []
     },
     "execution_count": 59,
     "metadata": {},
     "output_type": "execute_result"
    }
   ],
   "source": [
    "aml.leader"
   ]
  },
  {
   "cell_type": "code",
   "execution_count": 60,
   "metadata": {},
   "outputs": [
    {
     "name": "stdout",
     "output_type": "stream",
     "text": [
      "Parse progress: |████████████████████████████████████████████████████████████████| (done) 100%\n",
      "stackedensemble prediction progress: |███████████████████████████████████████████| (done) 100%\n"
     ]
    },
    {
     "name": "stderr",
     "output_type": "stream",
     "text": [
      "/home/pomilusky/miniconda3/envs/ironhack/lib/python3.8/site-packages/h2o/job.py:83: UserWarning: Test/Validation dataset is missing column 'C1': substituting in a column of NaN\n",
      "  warnings.warn(w)\n",
      "/home/pomilusky/miniconda3/envs/ironhack/lib/python3.8/site-packages/h2o/job.py:83: UserWarning: Test/Validation dataset column 'host_neighbourhood' has levels not trained on: [\"Belváros\", \"Nieuwendammerham\"]\n",
      "  warnings.warn(w)\n"
     ]
    }
   ],
   "source": [
    "test = h2o.import_file('../Data/new_test.csv')\n",
    "pred = aml.leader.predict(test)"
   ]
  },
  {
   "cell_type": "code",
   "execution_count": 61,
   "metadata": {},
   "outputs": [],
   "source": [
    "pred = pred.as_data_frame()"
   ]
  },
  {
   "cell_type": "code",
   "execution_count": 80,
   "metadata": {},
   "outputs": [
    {
     "data": {
      "text/html": [
       "<div>\n",
       "<style scoped>\n",
       "    .dataframe tbody tr th:only-of-type {\n",
       "        vertical-align: middle;\n",
       "    }\n",
       "\n",
       "    .dataframe tbody tr th {\n",
       "        vertical-align: top;\n",
       "    }\n",
       "\n",
       "    .dataframe thead th {\n",
       "        text-align: right;\n",
       "    }\n",
       "</style>\n",
       "<table border=\"1\" class=\"dataframe\">\n",
       "  <thead>\n",
       "    <tr style=\"text-align: right;\">\n",
       "      <th></th>\n",
       "      <th>price</th>\n",
       "      <th>id</th>\n",
       "    </tr>\n",
       "  </thead>\n",
       "  <tbody>\n",
       "    <tr>\n",
       "      <th>0</th>\n",
       "      <td>129.696615</td>\n",
       "      <td>0</td>\n",
       "    </tr>\n",
       "    <tr>\n",
       "      <th>1</th>\n",
       "      <td>67.882471</td>\n",
       "      <td>1</td>\n",
       "    </tr>\n",
       "    <tr>\n",
       "      <th>2</th>\n",
       "      <td>106.318701</td>\n",
       "      <td>2</td>\n",
       "    </tr>\n",
       "    <tr>\n",
       "      <th>3</th>\n",
       "      <td>128.340921</td>\n",
       "      <td>3</td>\n",
       "    </tr>\n",
       "    <tr>\n",
       "      <th>4</th>\n",
       "      <td>124.578182</td>\n",
       "      <td>4</td>\n",
       "    </tr>\n",
       "  </tbody>\n",
       "</table>\n",
       "</div>"
      ],
      "text/plain": [
       "        price  id\n",
       "0  129.696615   0\n",
       "1   67.882471   1\n",
       "2  106.318701   2\n",
       "3  128.340921   3\n",
       "4  124.578182   4"
      ]
     },
     "execution_count": 80,
     "metadata": {},
     "output_type": "execute_result"
    }
   ],
   "source": [
    "#test['price'] = pred\n",
    "df_sample = pd.read_csv('../Data/sample.csv')\n",
    "df_sample['price']=pred\n",
    "df_sample.head()"
   ]
  },
  {
   "cell_type": "code",
   "execution_count": 86,
   "metadata": {},
   "outputs": [],
   "source": [
    "df_sample.to_csv('../Data/resultats.csv',index=False)"
   ]
  },
  {
   "cell_type": "code",
   "execution_count": 82,
   "metadata": {},
   "outputs": [],
   "source": [
    "test = pd.read_csv('../Data/new_test.csv')\n",
    "test['price'] = pred\n",
    "test_sp = pd.read_csv('../Data/resultatsambprice.csv')\n",
    "test_sp.head()\n",
    "test['price_nd'] = test_sp['price']"
   ]
  },
  {
   "cell_type": "code",
   "execution_count": 83,
   "metadata": {},
   "outputs": [],
   "source": [
    "a = test[['price_now','price','price_nd']].reset_index(drop=True)"
   ]
  },
  {
   "cell_type": "code",
   "execution_count": 84,
   "metadata": {},
   "outputs": [
    {
     "data": {
      "text/html": [
       "<div>\n",
       "<style scoped>\n",
       "    .dataframe tbody tr th:only-of-type {\n",
       "        vertical-align: middle;\n",
       "    }\n",
       "\n",
       "    .dataframe tbody tr th {\n",
       "        vertical-align: top;\n",
       "    }\n",
       "\n",
       "    .dataframe thead th {\n",
       "        text-align: right;\n",
       "    }\n",
       "</style>\n",
       "<table border=\"1\" class=\"dataframe\">\n",
       "  <thead>\n",
       "    <tr style=\"text-align: right;\">\n",
       "      <th></th>\n",
       "      <th>price_now</th>\n",
       "      <th>price</th>\n",
       "      <th>price_nd</th>\n",
       "    </tr>\n",
       "  </thead>\n",
       "  <tbody>\n",
       "    <tr>\n",
       "      <th>0</th>\n",
       "      <td>NaN</td>\n",
       "      <td>129.696615</td>\n",
       "      <td>141.977830</td>\n",
       "    </tr>\n",
       "    <tr>\n",
       "      <th>7</th>\n",
       "      <td>NaN</td>\n",
       "      <td>214.860479</td>\n",
       "      <td>226.913891</td>\n",
       "    </tr>\n",
       "    <tr>\n",
       "      <th>51</th>\n",
       "      <td>NaN</td>\n",
       "      <td>202.331933</td>\n",
       "      <td>230.806434</td>\n",
       "    </tr>\n",
       "    <tr>\n",
       "      <th>57</th>\n",
       "      <td>NaN</td>\n",
       "      <td>76.796840</td>\n",
       "      <td>61.688450</td>\n",
       "    </tr>\n",
       "    <tr>\n",
       "      <th>59</th>\n",
       "      <td>NaN</td>\n",
       "      <td>164.400424</td>\n",
       "      <td>169.343025</td>\n",
       "    </tr>\n",
       "    <tr>\n",
       "      <th>...</th>\n",
       "      <td>...</td>\n",
       "      <td>...</td>\n",
       "      <td>...</td>\n",
       "    </tr>\n",
       "    <tr>\n",
       "      <th>1344</th>\n",
       "      <td>NaN</td>\n",
       "      <td>131.880743</td>\n",
       "      <td>140.102405</td>\n",
       "    </tr>\n",
       "    <tr>\n",
       "      <th>1360</th>\n",
       "      <td>NaN</td>\n",
       "      <td>200.554758</td>\n",
       "      <td>210.075836</td>\n",
       "    </tr>\n",
       "    <tr>\n",
       "      <th>1362</th>\n",
       "      <td>NaN</td>\n",
       "      <td>74.876882</td>\n",
       "      <td>99.194002</td>\n",
       "    </tr>\n",
       "    <tr>\n",
       "      <th>1374</th>\n",
       "      <td>NaN</td>\n",
       "      <td>227.485583</td>\n",
       "      <td>226.388374</td>\n",
       "    </tr>\n",
       "    <tr>\n",
       "      <th>1378</th>\n",
       "      <td>NaN</td>\n",
       "      <td>219.977434</td>\n",
       "      <td>226.889813</td>\n",
       "    </tr>\n",
       "  </tbody>\n",
       "</table>\n",
       "<p>157 rows × 3 columns</p>\n",
       "</div>"
      ],
      "text/plain": [
       "      price_now       price    price_nd\n",
       "0           NaN  129.696615  141.977830\n",
       "7           NaN  214.860479  226.913891\n",
       "51          NaN  202.331933  230.806434\n",
       "57          NaN   76.796840   61.688450\n",
       "59          NaN  164.400424  169.343025\n",
       "...         ...         ...         ...\n",
       "1344        NaN  131.880743  140.102405\n",
       "1360        NaN  200.554758  210.075836\n",
       "1362        NaN   74.876882   99.194002\n",
       "1374        NaN  227.485583  226.388374\n",
       "1378        NaN  219.977434  226.889813\n",
       "\n",
       "[157 rows x 3 columns]"
      ]
     },
     "execution_count": 84,
     "metadata": {},
     "output_type": "execute_result"
    }
   ],
   "source": [
    "a[test.price_now.isna()]"
   ]
  },
  {
   "cell_type": "code",
   "execution_count": 85,
   "metadata": {},
   "outputs": [
    {
     "data": {
      "text/html": [
       "<div>\n",
       "<style scoped>\n",
       "    .dataframe tbody tr th:only-of-type {\n",
       "        vertical-align: middle;\n",
       "    }\n",
       "\n",
       "    .dataframe tbody tr th {\n",
       "        vertical-align: top;\n",
       "    }\n",
       "\n",
       "    .dataframe thead th {\n",
       "        text-align: right;\n",
       "    }\n",
       "</style>\n",
       "<table border=\"1\" class=\"dataframe\">\n",
       "  <thead>\n",
       "    <tr style=\"text-align: right;\">\n",
       "      <th></th>\n",
       "      <th>price</th>\n",
       "      <th>id</th>\n",
       "    </tr>\n",
       "  </thead>\n",
       "  <tbody>\n",
       "    <tr>\n",
       "      <th>0</th>\n",
       "      <td>177.264127</td>\n",
       "      <td>0</td>\n",
       "    </tr>\n",
       "    <tr>\n",
       "      <th>1</th>\n",
       "      <td>127.178101</td>\n",
       "      <td>1</td>\n",
       "    </tr>\n",
       "    <tr>\n",
       "      <th>2</th>\n",
       "      <td>134.649070</td>\n",
       "      <td>2</td>\n",
       "    </tr>\n",
       "    <tr>\n",
       "      <th>3</th>\n",
       "      <td>177.779191</td>\n",
       "      <td>3</td>\n",
       "    </tr>\n",
       "    <tr>\n",
       "      <th>4</th>\n",
       "      <td>147.028703</td>\n",
       "      <td>4</td>\n",
       "    </tr>\n",
       "  </tbody>\n",
       "</table>\n",
       "</div>"
      ],
      "text/plain": [
       "        price  id\n",
       "0  177.264127   0\n",
       "1  127.178101   1\n",
       "2  134.649070   2\n",
       "3  177.779191   3\n",
       "4  147.028703   4"
      ]
     },
     "execution_count": 85,
     "metadata": {},
     "output_type": "execute_result"
    }
   ],
   "source": [
    "test_sp = pd.read_csv('../Data/resultats.csv')\n",
    "test_sp.head()"
   ]
  },
  {
   "cell_type": "markdown",
   "metadata": {},
   "source": [
    "### Best results:\n",
    "MSE: 5034.07568408847   \n",
    "RMSE: 70.95122045524283  \n",
    "MAE: 32.03218826345224  \n",
    "RMSLE: NaN  \n",
    "R^2: 0.6305737999847885  \n",
    "Mean Residual Deviance: 5034.07568408847  \n",
    "Null degrees of freedom: 3024  \n",
    "Residual degrees of freedom: 3022  \n",
    "Null deviance: 41234721.48402415  \n",
    "Residual deviance: 15228078.944367621    \n",
    "AIC: 34377.63338663671  \n",
    "\n",
    "\n",
    "### 20 models amb 75.25\n",
    "MSE: 4413.113506239728  \n",
    "RMSE: 66.43126903981083  \n",
    "MAE: 28.025055732584413    \n",
    "RMSLE: 0.299146877411435  \n",
    "R^2: 0.6722681750995019  \n",
    "Mean Residual Deviance: 4413.113506239728  \n",
    "Null degrees of freedom: 2835  \n",
    "Residual degrees of freedom: 2830  \n",
    "Null deviance: 38199287.598680854  \n",
    "Residual deviance: 12515589.903695868  \n",
    "AIC: 31862.883490100554  \n",
    "\n",
    "### 45 models amb .8.2\n",
    "MSE: 4502.4605954901745  \n",
    "RMSE: 67.1003770145159  \n",
    "MAE: 28.233104156429235  \n",
    "RMSLE: 0.2907156924644855  \n",
    "R^2: 0.6695864319705112  \n",
    "Mean Residual Deviance: 4502.4605954901745  \n",
    "Null degrees of freedom: 3024  \n",
    "Residual degrees of freedom: 3007  \n",
    "Null deviance: 41262429.96852899  \n",
    "Residual deviance: 13619943.301357778  \n",
    "AIC: 34070.02558496956  \n",
    "\n",
    "### - models amb .8.2\n",
    "MSE: 4551.037260240422  \n",
    "RMSE: 67.4613760624583  \n",
    "MAE: 28.436830794412877  \n",
    "RMSLE: 0.2944180061210839  \n",
    "R^2: 0.6660216280632479  \n",
    "Mean Residual Deviance: 4551.037260240422  \n",
    "Null degrees of freedom: 3024  \n",
    "Residual degrees of freedom: 3020  \n",
    "Null deviance: 41222699.03765267  \n",
    "Residual deviance: 13766887.712227277  \n",
    "AIC: 34076.48725301213  \n",
    "\n",
    "## - models .7/.3\n",
    "MSE: 4039.3116292382847  \n",
    "RMSE: 63.555579056745955  \n",
    "MAE: 27.384928106351573  \n",
    "RMSLE: 0.28838987687471507  \n",
    "R^2: 0.6974464298772651  \n",
    "Mean Residual Deviance: 4039.3116292382847  \n",
    "Null degrees of freedom: 2646  \n",
    "Residual degrees of freedom: 2620  \n",
    "Null deviance: 35364387.032175496  \n",
    "Residual deviance: 10692057.88259374  \n",
    "AIC: 29548.0974603153  "
   ]
  },
  {
   "cell_type": "code",
   "execution_count": null,
   "metadata": {},
   "outputs": [],
   "source": []
  }
 ],
 "metadata": {
  "interpreter": {
   "hash": "4034f9195f5552b4454ef60198efa491d941068725cfe9b8182a5b0158f58c43"
  },
  "kernelspec": {
   "display_name": "Python 3.8.12 ('ironhack')",
   "language": "python",
   "name": "python3"
  },
  "language_info": {
   "codemirror_mode": {
    "name": "ipython",
    "version": 3
   },
   "file_extension": ".py",
   "mimetype": "text/x-python",
   "name": "python",
   "nbconvert_exporter": "python",
   "pygments_lexer": "ipython3",
   "version": "3.8.12"
  },
  "orig_nbformat": 4
 },
 "nbformat": 4,
 "nbformat_minor": 2
}
