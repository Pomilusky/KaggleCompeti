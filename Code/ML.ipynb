{
 "cells": [
  {
   "cell_type": "code",
   "execution_count": 1,
   "metadata": {},
   "outputs": [],
   "source": [
    "import h2o\n",
    "import pandas as pd\n",
    "from h2o.automl import H2OAutoML\n",
    "from sklearn.model_selection import train_test_split as tts"
   ]
  },
  {
   "cell_type": "code",
   "execution_count": 2,
   "metadata": {},
   "outputs": [
    {
     "name": "stdout",
     "output_type": "stream",
     "text": [
      "Checking whether there is an H2O instance running at http://localhost:54321 . connected.\n"
     ]
    },
    {
     "data": {
      "text/html": [
       "<div style=\"overflow:auto\"><table style=\"width:50%\"><tr><td>H2O_cluster_uptime:</td>\n",
       "<td>6 hours 41 mins</td></tr>\n",
       "<tr><td>H2O_cluster_timezone:</td>\n",
       "<td>Europe/Madrid</td></tr>\n",
       "<tr><td>H2O_data_parsing_timezone:</td>\n",
       "<td>UTC</td></tr>\n",
       "<tr><td>H2O_cluster_version:</td>\n",
       "<td>3.36.0.3</td></tr>\n",
       "<tr><td>H2O_cluster_version_age:</td>\n",
       "<td>7 days, 23 hours and 27 minutes </td></tr>\n",
       "<tr><td>H2O_cluster_name:</td>\n",
       "<td>H2O_from_python_pomilusky_uk74x7</td></tr>\n",
       "<tr><td>H2O_cluster_total_nodes:</td>\n",
       "<td>1</td></tr>\n",
       "<tr><td>H2O_cluster_free_memory:</td>\n",
       "<td>2.008 Gb</td></tr>\n",
       "<tr><td>H2O_cluster_total_cores:</td>\n",
       "<td>16</td></tr>\n",
       "<tr><td>H2O_cluster_allowed_cores:</td>\n",
       "<td>16</td></tr>\n",
       "<tr><td>H2O_cluster_status:</td>\n",
       "<td>locked, healthy</td></tr>\n",
       "<tr><td>H2O_connection_url:</td>\n",
       "<td>http://localhost:54321</td></tr>\n",
       "<tr><td>H2O_connection_proxy:</td>\n",
       "<td>{\"http\": null, \"https\": null}</td></tr>\n",
       "<tr><td>H2O_internal_security:</td>\n",
       "<td>False</td></tr>\n",
       "<tr><td>Python_version:</td>\n",
       "<td>3.8.12 final</td></tr></table></div>"
      ],
      "text/plain": [
       "--------------------------  --------------------------------\n",
       "H2O_cluster_uptime:         6 hours 41 mins\n",
       "H2O_cluster_timezone:       Europe/Madrid\n",
       "H2O_data_parsing_timezone:  UTC\n",
       "H2O_cluster_version:        3.36.0.3\n",
       "H2O_cluster_version_age:    7 days, 23 hours and 27 minutes\n",
       "H2O_cluster_name:           H2O_from_python_pomilusky_uk74x7\n",
       "H2O_cluster_total_nodes:    1\n",
       "H2O_cluster_free_memory:    2.008 Gb\n",
       "H2O_cluster_total_cores:    16\n",
       "H2O_cluster_allowed_cores:  16\n",
       "H2O_cluster_status:         locked, healthy\n",
       "H2O_connection_url:         http://localhost:54321\n",
       "H2O_connection_proxy:       {\"http\": null, \"https\": null}\n",
       "H2O_internal_security:      False\n",
       "Python_version:             3.8.12 final\n",
       "--------------------------  --------------------------------"
      ]
     },
     "metadata": {},
     "output_type": "display_data"
    }
   ],
   "source": [
    "h2o.init()"
   ]
  },
  {
   "cell_type": "code",
   "execution_count": 3,
   "metadata": {},
   "outputs": [],
   "source": [
    "df = pd.read_csv('../Data/new_train.csv')\n",
    "train, test = tts(df, test_size=0.3, train_size= 0.7, random_state = 7)\n",
    "train.to_csv('../Data/h20_train.csv')\n",
    "test.to_csv('../Data/h20_test.csv')"
   ]
  },
  {
   "cell_type": "code",
   "execution_count": 4,
   "metadata": {},
   "outputs": [
    {
     "name": "stdout",
     "output_type": "stream",
     "text": [
      "Parse progress: |████████████████████████████████████████████████████████████████| (done) 100%\n",
      "Parse progress: |████████████████████████████████████████████████████████████████| (done) 100%\n"
     ]
    }
   ],
   "source": [
    "train = h2o.import_file('../Data/h20_train.csv')\n",
    "test = h2o.import_file('../Data/h20_test.csv')\n"
   ]
  },
  {
   "cell_type": "code",
   "execution_count": 5,
   "metadata": {},
   "outputs": [],
   "source": [
    "X =train.columns\n",
    "y = 'price'\n",
    "X.remove(y)"
   ]
  },
  {
   "cell_type": "code",
   "execution_count": 6,
   "metadata": {},
   "outputs": [],
   "source": [
    "# train[y]=train[y].asfactor()\n",
    "# test[y]=test[y].asfactor()"
   ]
  },
  {
   "cell_type": "code",
   "execution_count": 7,
   "metadata": {},
   "outputs": [
    {
     "name": "stdout",
     "output_type": "stream",
     "text": [
      "AutoML progress: |\n",
      "17:19:16.715: _train param, Dropping bad and constant columns: [host_has_profile_pic]\n",
      "\n",
      "█\n",
      "17:19:20.716: _train param, Dropping bad and constant columns: [host_has_profile_pic]\n",
      "\n",
      "█\n",
      "17:19:22.720: _train param, Dropping bad and constant columns: [host_has_profile_pic]\n",
      "\n",
      "██\n",
      "17:19:29.725: _train param, Dropping unused columns: [host_has_profile_pic]\n",
      "\n",
      "\n",
      "17:19:30.729: _train param, Dropping bad and constant columns: [host_has_profile_pic]\n",
      "\n",
      "█\n",
      "17:19:35.733: _train param, Dropping bad and constant columns: [host_has_profile_pic]\n",
      "\n",
      "███\n",
      "17:20:06.837: _train param, Dropping bad and constant columns: [host_has_profile_pic]\n",
      "\n",
      "\n",
      "17:20:14.842: _train param, Dropping bad and constant columns: [host_has_profile_pic]\n",
      "\n",
      "█\n",
      "17:20:22.847: _train param, Dropping bad and constant columns: [host_has_profile_pic]\n",
      "\n",
      "█\n",
      "17:20:32.856: _train param, Dropping unused columns: [host_has_profile_pic]\n",
      "17:20:33.860: _train param, Dropping unused columns: [host_has_profile_pic]\n",
      "17:20:34.864: _train param, Dropping bad and constant columns: [host_has_profile_pic]\n",
      "\n",
      "█\n",
      "17:20:37.869: _train param, Dropping bad and constant columns: [host_has_profile_pic]\n",
      "\n",
      "███\n",
      "17:21:09.926: _train param, Dropping bad and constant columns: [host_has_profile_pic]\n",
      "17:21:15.938: _train param, Dropping bad and constant columns: [host_has_profile_pic]\n",
      "\n",
      "█\n",
      "17:21:18.943: _train param, Dropping unused columns: [host_has_profile_pic]\n",
      "\n",
      "\n",
      "17:21:19.949: _train param, Dropping unused columns: [host_has_profile_pic]\n",
      "\n",
      "███████████████████████████████████████████████\n",
      "18:01:49.949: _train param, Dropping unused columns: [host_has_profile_pic]\n",
      "\n",
      "\n",
      "18:01:50.965: _train param, Dropping unused columns: [host_has_profile_pic]\n",
      "\n",
      "\n",
      "18:15:52.848: _train param, Dropping unused columns: [host_has_profile_pic]\n",
      "\n",
      "\n",
      "18:15:53.868: _train param, Dropping unused columns: [host_has_profile_pic]\n",
      "\n",
      "\n",
      "18:16:28.917: _train param, Dropping bad and constant columns: [host_has_profile_pic]\n",
      "\n",
      "\n",
      "18:16:36.924: _train param, Dropping unused columns: [host_has_profile_pic]\n",
      "\n",
      "\n",
      "18:16:42.942: _train param, Dropping unused columns: [host_has_profile_pic]\n",
      "\n",
      "\n",
      "18:16:44.961: _train param, Dropping unused columns: [host_has_profile_pic]\n",
      "\n",
      "\n",
      "18:16:55.987: _train param, Dropping unused columns: [host_has_profile_pic]\n",
      "\n",
      "\n",
      "18:17:09.19: _train param, Dropping unused columns: [host_has_profile_pic]\n",
      "\n",
      "\n",
      "18:17:10.41: _train param, Dropping unused columns: [host_has_profile_pic]\n",
      "\n",
      "\n",
      "18:18:31.561: _train param, Dropping unused columns: [host_has_profile_pic]\n",
      "\n",
      "█| (done) 100%\n",
      "Model Details\n",
      "=============\n",
      "H2OStackedEnsembleEstimator :  Stacked Ensemble\n",
      "Model Key:  StackedEnsemble_AllModels_4_AutoML_10_20220224_171916\n",
      "\n",
      "No model summary for this model\n",
      "\n",
      "ModelMetricsRegressionGLM: stackedensemble\n",
      "** Reported on train data. **\n",
      "\n",
      "MSE: 110.46039001143086\n",
      "RMSE: 10.510013796919148\n",
      "MAE: 6.53816684097742\n",
      "RMSLE: 0.0723524246209284\n",
      "R^2: 0.9819850992039778\n",
      "Mean Residual Deviance: 110.46039001143086\n",
      "Null degrees of freedom: 2577\n",
      "Residual degrees of freedom: 2557\n",
      "Null deviance: 15807296.896819238\n",
      "Residual deviance: 284766.88544946874\n",
      "AIC: 19488.65281098392\n",
      "\n",
      "ModelMetricsRegressionGLM: stackedensemble\n",
      "** Reported on cross-validation data. **\n",
      "\n",
      "MSE: 1305.5921628232595\n",
      "RMSE: 36.13297888111717\n",
      "MAE: 21.00346631193305\n",
      "RMSLE: 0.22317112372717735\n",
      "R^2: 0.7870719695006401\n",
      "Mean Residual Deviance: 1305.5921628232595\n",
      "Null degrees of freedom: 2577\n",
      "Residual degrees of freedom: 2560\n",
      "Null deviance: 15816302.973234825\n",
      "Residual deviance: 3365816.595758363\n",
      "AIC: 25849.68116538729\n"
     ]
    },
    {
     "data": {
      "text/plain": []
     },
     "execution_count": 7,
     "metadata": {},
     "output_type": "execute_result"
    }
   ],
   "source": [
    "aml=H2OAutoML()\n",
    "aml.train(x=X, y=y, training_frame=train)"
   ]
  },
  {
   "cell_type": "code",
   "execution_count": 12,
   "metadata": {},
   "outputs": [
    {
     "name": "stdout",
     "output_type": "stream",
     "text": [
      "Model Details\n",
      "=============\n",
      "H2OStackedEnsembleEstimator :  Stacked Ensemble\n",
      "Model Key:  StackedEnsemble_AllModels_4_AutoML_10_20220224_171916\n",
      "\n",
      "No model summary for this model\n",
      "\n",
      "ModelMetricsRegressionGLM: stackedensemble\n",
      "** Reported on train data. **\n",
      "\n",
      "MSE: 110.46039001143086\n",
      "RMSE: 10.510013796919148\n",
      "MAE: 6.53816684097742\n",
      "RMSLE: 0.0723524246209284\n",
      "R^2: 0.9819850992039778\n",
      "Mean Residual Deviance: 110.46039001143086\n",
      "Null degrees of freedom: 2577\n",
      "Residual degrees of freedom: 2557\n",
      "Null deviance: 15807296.896819238\n",
      "Residual deviance: 284766.88544946874\n",
      "AIC: 19488.65281098392\n",
      "\n",
      "ModelMetricsRegressionGLM: stackedensemble\n",
      "** Reported on cross-validation data. **\n",
      "\n",
      "MSE: 1305.5921628232595\n",
      "RMSE: 36.13297888111717\n",
      "MAE: 21.00346631193305\n",
      "RMSLE: 0.22317112372717735\n",
      "R^2: 0.7870719695006401\n",
      "Mean Residual Deviance: 1305.5921628232595\n",
      "Null degrees of freedom: 2577\n",
      "Residual degrees of freedom: 2560\n",
      "Null deviance: 15816302.973234825\n",
      "Residual deviance: 3365816.595758363\n",
      "AIC: 25849.68116538729\n"
     ]
    },
    {
     "data": {
      "text/plain": []
     },
     "execution_count": 12,
     "metadata": {},
     "output_type": "execute_result"
    }
   ],
   "source": [
    "aml.leader"
   ]
  },
  {
   "cell_type": "code",
   "execution_count": 13,
   "metadata": {},
   "outputs": [
    {
     "name": "stdout",
     "output_type": "stream",
     "text": [
      "Parse progress: |████████████████████████████████████████████████████████████████| (done) 100%\n",
      "stackedensemble prediction progress: |███████████████████████████████████████████| (done) 100%\n"
     ]
    },
    {
     "name": "stderr",
     "output_type": "stream",
     "text": [
      "/home/pomilusky/miniconda3/envs/ironhack/lib/python3.8/site-packages/h2o/job.py:83: UserWarning: Test/Validation dataset is missing column 'C1': substituting in a column of NaN\n",
      "  warnings.warn(w)\n"
     ]
    }
   ],
   "source": [
    "test = h2o.import_file('../Data/new_test.csv')\n",
    "pred = aml.leader.predict(test)"
   ]
  },
  {
   "cell_type": "code",
   "execution_count": 14,
   "metadata": {},
   "outputs": [],
   "source": [
    "pred = pred.as_data_frame()"
   ]
  },
  {
   "cell_type": "code",
   "execution_count": 15,
   "metadata": {},
   "outputs": [
    {
     "ename": "FileNotFoundError",
     "evalue": "[Errno 2] No such file or directory: '../Data/sample.csv'",
     "output_type": "error",
     "traceback": [
      "\u001b[0;31m---------------------------------------------------------------------------\u001b[0m",
      "\u001b[0;31mFileNotFoundError\u001b[0m                         Traceback (most recent call last)",
      "\u001b[1;32m/home/pomilusky/Escriptori/Ironhack/KaggleCompeti/Code/ML.ipynb Cell 11'\u001b[0m in \u001b[0;36m<module>\u001b[0;34m\u001b[0m\n\u001b[1;32m      <a href='vscode-notebook-cell:/home/pomilusky/Escriptori/Ironhack/KaggleCompeti/Code/ML.ipynb#ch0000010?line=0'>1</a>\u001b[0m \u001b[39m#test['price'] = pred\u001b[39;00m\n\u001b[0;32m----> <a href='vscode-notebook-cell:/home/pomilusky/Escriptori/Ironhack/KaggleCompeti/Code/ML.ipynb#ch0000010?line=1'>2</a>\u001b[0m df_sample \u001b[39m=\u001b[39m pd\u001b[39m.\u001b[39;49mread_csv(\u001b[39m'\u001b[39;49m\u001b[39m../Data/sample.csv\u001b[39;49m\u001b[39m'\u001b[39;49m)\n\u001b[1;32m      <a href='vscode-notebook-cell:/home/pomilusky/Escriptori/Ironhack/KaggleCompeti/Code/ML.ipynb#ch0000010?line=2'>3</a>\u001b[0m df_sample[\u001b[39m'\u001b[39m\u001b[39mprice\u001b[39m\u001b[39m'\u001b[39m]\u001b[39m=\u001b[39mpred\n\u001b[1;32m      <a href='vscode-notebook-cell:/home/pomilusky/Escriptori/Ironhack/KaggleCompeti/Code/ML.ipynb#ch0000010?line=3'>4</a>\u001b[0m df_sample\u001b[39m.\u001b[39mhead()\n",
      "File \u001b[0;32m~/.local/lib/python3.8/site-packages/pandas/util/_decorators.py:311\u001b[0m, in \u001b[0;36mdeprecate_nonkeyword_arguments.<locals>.decorate.<locals>.wrapper\u001b[0;34m(*args, **kwargs)\u001b[0m\n\u001b[1;32m    <a href='file:///~/.local/lib/python3.8/site-packages/pandas/util/_decorators.py?line=304'>305</a>\u001b[0m \u001b[39mif\u001b[39;00m \u001b[39mlen\u001b[39m(args) \u001b[39m>\u001b[39m num_allow_args:\n\u001b[1;32m    <a href='file:///~/.local/lib/python3.8/site-packages/pandas/util/_decorators.py?line=305'>306</a>\u001b[0m     warnings\u001b[39m.\u001b[39mwarn(\n\u001b[1;32m    <a href='file:///~/.local/lib/python3.8/site-packages/pandas/util/_decorators.py?line=306'>307</a>\u001b[0m         msg\u001b[39m.\u001b[39mformat(arguments\u001b[39m=\u001b[39marguments),\n\u001b[1;32m    <a href='file:///~/.local/lib/python3.8/site-packages/pandas/util/_decorators.py?line=307'>308</a>\u001b[0m         \u001b[39mFutureWarning\u001b[39;00m,\n\u001b[1;32m    <a href='file:///~/.local/lib/python3.8/site-packages/pandas/util/_decorators.py?line=308'>309</a>\u001b[0m         stacklevel\u001b[39m=\u001b[39mstacklevel,\n\u001b[1;32m    <a href='file:///~/.local/lib/python3.8/site-packages/pandas/util/_decorators.py?line=309'>310</a>\u001b[0m     )\n\u001b[0;32m--> <a href='file:///~/.local/lib/python3.8/site-packages/pandas/util/_decorators.py?line=310'>311</a>\u001b[0m \u001b[39mreturn\u001b[39;00m func(\u001b[39m*\u001b[39;49margs, \u001b[39m*\u001b[39;49m\u001b[39m*\u001b[39;49mkwargs)\n",
      "File \u001b[0;32m~/.local/lib/python3.8/site-packages/pandas/io/parsers/readers.py:680\u001b[0m, in \u001b[0;36mread_csv\u001b[0;34m(filepath_or_buffer, sep, delimiter, header, names, index_col, usecols, squeeze, prefix, mangle_dupe_cols, dtype, engine, converters, true_values, false_values, skipinitialspace, skiprows, skipfooter, nrows, na_values, keep_default_na, na_filter, verbose, skip_blank_lines, parse_dates, infer_datetime_format, keep_date_col, date_parser, dayfirst, cache_dates, iterator, chunksize, compression, thousands, decimal, lineterminator, quotechar, quoting, doublequote, escapechar, comment, encoding, encoding_errors, dialect, error_bad_lines, warn_bad_lines, on_bad_lines, delim_whitespace, low_memory, memory_map, float_precision, storage_options)\u001b[0m\n\u001b[1;32m    <a href='file:///~/.local/lib/python3.8/site-packages/pandas/io/parsers/readers.py?line=664'>665</a>\u001b[0m kwds_defaults \u001b[39m=\u001b[39m _refine_defaults_read(\n\u001b[1;32m    <a href='file:///~/.local/lib/python3.8/site-packages/pandas/io/parsers/readers.py?line=665'>666</a>\u001b[0m     dialect,\n\u001b[1;32m    <a href='file:///~/.local/lib/python3.8/site-packages/pandas/io/parsers/readers.py?line=666'>667</a>\u001b[0m     delimiter,\n\u001b[0;32m   (...)\u001b[0m\n\u001b[1;32m    <a href='file:///~/.local/lib/python3.8/site-packages/pandas/io/parsers/readers.py?line=675'>676</a>\u001b[0m     defaults\u001b[39m=\u001b[39m{\u001b[39m\"\u001b[39m\u001b[39mdelimiter\u001b[39m\u001b[39m\"\u001b[39m: \u001b[39m\"\u001b[39m\u001b[39m,\u001b[39m\u001b[39m\"\u001b[39m},\n\u001b[1;32m    <a href='file:///~/.local/lib/python3.8/site-packages/pandas/io/parsers/readers.py?line=676'>677</a>\u001b[0m )\n\u001b[1;32m    <a href='file:///~/.local/lib/python3.8/site-packages/pandas/io/parsers/readers.py?line=677'>678</a>\u001b[0m kwds\u001b[39m.\u001b[39mupdate(kwds_defaults)\n\u001b[0;32m--> <a href='file:///~/.local/lib/python3.8/site-packages/pandas/io/parsers/readers.py?line=679'>680</a>\u001b[0m \u001b[39mreturn\u001b[39;00m _read(filepath_or_buffer, kwds)\n",
      "File \u001b[0;32m~/.local/lib/python3.8/site-packages/pandas/io/parsers/readers.py:575\u001b[0m, in \u001b[0;36m_read\u001b[0;34m(filepath_or_buffer, kwds)\u001b[0m\n\u001b[1;32m    <a href='file:///~/.local/lib/python3.8/site-packages/pandas/io/parsers/readers.py?line=571'>572</a>\u001b[0m _validate_names(kwds\u001b[39m.\u001b[39mget(\u001b[39m\"\u001b[39m\u001b[39mnames\u001b[39m\u001b[39m\"\u001b[39m, \u001b[39mNone\u001b[39;00m))\n\u001b[1;32m    <a href='file:///~/.local/lib/python3.8/site-packages/pandas/io/parsers/readers.py?line=573'>574</a>\u001b[0m \u001b[39m# Create the parser.\u001b[39;00m\n\u001b[0;32m--> <a href='file:///~/.local/lib/python3.8/site-packages/pandas/io/parsers/readers.py?line=574'>575</a>\u001b[0m parser \u001b[39m=\u001b[39m TextFileReader(filepath_or_buffer, \u001b[39m*\u001b[39;49m\u001b[39m*\u001b[39;49mkwds)\n\u001b[1;32m    <a href='file:///~/.local/lib/python3.8/site-packages/pandas/io/parsers/readers.py?line=576'>577</a>\u001b[0m \u001b[39mif\u001b[39;00m chunksize \u001b[39mor\u001b[39;00m iterator:\n\u001b[1;32m    <a href='file:///~/.local/lib/python3.8/site-packages/pandas/io/parsers/readers.py?line=577'>578</a>\u001b[0m     \u001b[39mreturn\u001b[39;00m parser\n",
      "File \u001b[0;32m~/.local/lib/python3.8/site-packages/pandas/io/parsers/readers.py:933\u001b[0m, in \u001b[0;36mTextFileReader.__init__\u001b[0;34m(self, f, engine, **kwds)\u001b[0m\n\u001b[1;32m    <a href='file:///~/.local/lib/python3.8/site-packages/pandas/io/parsers/readers.py?line=929'>930</a>\u001b[0m     \u001b[39mself\u001b[39m\u001b[39m.\u001b[39moptions[\u001b[39m\"\u001b[39m\u001b[39mhas_index_names\u001b[39m\u001b[39m\"\u001b[39m] \u001b[39m=\u001b[39m kwds[\u001b[39m\"\u001b[39m\u001b[39mhas_index_names\u001b[39m\u001b[39m\"\u001b[39m]\n\u001b[1;32m    <a href='file:///~/.local/lib/python3.8/site-packages/pandas/io/parsers/readers.py?line=931'>932</a>\u001b[0m \u001b[39mself\u001b[39m\u001b[39m.\u001b[39mhandles: IOHandles \u001b[39m|\u001b[39m \u001b[39mNone\u001b[39;00m \u001b[39m=\u001b[39m \u001b[39mNone\u001b[39;00m\n\u001b[0;32m--> <a href='file:///~/.local/lib/python3.8/site-packages/pandas/io/parsers/readers.py?line=932'>933</a>\u001b[0m \u001b[39mself\u001b[39m\u001b[39m.\u001b[39m_engine \u001b[39m=\u001b[39m \u001b[39mself\u001b[39;49m\u001b[39m.\u001b[39;49m_make_engine(f, \u001b[39mself\u001b[39;49m\u001b[39m.\u001b[39;49mengine)\n",
      "File \u001b[0;32m~/.local/lib/python3.8/site-packages/pandas/io/parsers/readers.py:1217\u001b[0m, in \u001b[0;36mTextFileReader._make_engine\u001b[0;34m(self, f, engine)\u001b[0m\n\u001b[1;32m   <a href='file:///~/.local/lib/python3.8/site-packages/pandas/io/parsers/readers.py?line=1212'>1213</a>\u001b[0m     mode \u001b[39m=\u001b[39m \u001b[39m\"\u001b[39m\u001b[39mrb\u001b[39m\u001b[39m\"\u001b[39m\n\u001b[1;32m   <a href='file:///~/.local/lib/python3.8/site-packages/pandas/io/parsers/readers.py?line=1213'>1214</a>\u001b[0m \u001b[39m# error: No overload variant of \"get_handle\" matches argument types\u001b[39;00m\n\u001b[1;32m   <a href='file:///~/.local/lib/python3.8/site-packages/pandas/io/parsers/readers.py?line=1214'>1215</a>\u001b[0m \u001b[39m# \"Union[str, PathLike[str], ReadCsvBuffer[bytes], ReadCsvBuffer[str]]\"\u001b[39;00m\n\u001b[1;32m   <a href='file:///~/.local/lib/python3.8/site-packages/pandas/io/parsers/readers.py?line=1215'>1216</a>\u001b[0m \u001b[39m# , \"str\", \"bool\", \"Any\", \"Any\", \"Any\", \"Any\", \"Any\"\u001b[39;00m\n\u001b[0;32m-> <a href='file:///~/.local/lib/python3.8/site-packages/pandas/io/parsers/readers.py?line=1216'>1217</a>\u001b[0m \u001b[39mself\u001b[39m\u001b[39m.\u001b[39mhandles \u001b[39m=\u001b[39m get_handle(  \u001b[39m# type: ignore[call-overload]\u001b[39;49;00m\n\u001b[1;32m   <a href='file:///~/.local/lib/python3.8/site-packages/pandas/io/parsers/readers.py?line=1217'>1218</a>\u001b[0m     f,\n\u001b[1;32m   <a href='file:///~/.local/lib/python3.8/site-packages/pandas/io/parsers/readers.py?line=1218'>1219</a>\u001b[0m     mode,\n\u001b[1;32m   <a href='file:///~/.local/lib/python3.8/site-packages/pandas/io/parsers/readers.py?line=1219'>1220</a>\u001b[0m     encoding\u001b[39m=\u001b[39;49m\u001b[39mself\u001b[39;49m\u001b[39m.\u001b[39;49moptions\u001b[39m.\u001b[39;49mget(\u001b[39m\"\u001b[39;49m\u001b[39mencoding\u001b[39;49m\u001b[39m\"\u001b[39;49m, \u001b[39mNone\u001b[39;49;00m),\n\u001b[1;32m   <a href='file:///~/.local/lib/python3.8/site-packages/pandas/io/parsers/readers.py?line=1220'>1221</a>\u001b[0m     compression\u001b[39m=\u001b[39;49m\u001b[39mself\u001b[39;49m\u001b[39m.\u001b[39;49moptions\u001b[39m.\u001b[39;49mget(\u001b[39m\"\u001b[39;49m\u001b[39mcompression\u001b[39;49m\u001b[39m\"\u001b[39;49m, \u001b[39mNone\u001b[39;49;00m),\n\u001b[1;32m   <a href='file:///~/.local/lib/python3.8/site-packages/pandas/io/parsers/readers.py?line=1221'>1222</a>\u001b[0m     memory_map\u001b[39m=\u001b[39;49m\u001b[39mself\u001b[39;49m\u001b[39m.\u001b[39;49moptions\u001b[39m.\u001b[39;49mget(\u001b[39m\"\u001b[39;49m\u001b[39mmemory_map\u001b[39;49m\u001b[39m\"\u001b[39;49m, \u001b[39mFalse\u001b[39;49;00m),\n\u001b[1;32m   <a href='file:///~/.local/lib/python3.8/site-packages/pandas/io/parsers/readers.py?line=1222'>1223</a>\u001b[0m     is_text\u001b[39m=\u001b[39;49mis_text,\n\u001b[1;32m   <a href='file:///~/.local/lib/python3.8/site-packages/pandas/io/parsers/readers.py?line=1223'>1224</a>\u001b[0m     errors\u001b[39m=\u001b[39;49m\u001b[39mself\u001b[39;49m\u001b[39m.\u001b[39;49moptions\u001b[39m.\u001b[39;49mget(\u001b[39m\"\u001b[39;49m\u001b[39mencoding_errors\u001b[39;49m\u001b[39m\"\u001b[39;49m, \u001b[39m\"\u001b[39;49m\u001b[39mstrict\u001b[39;49m\u001b[39m\"\u001b[39;49m),\n\u001b[1;32m   <a href='file:///~/.local/lib/python3.8/site-packages/pandas/io/parsers/readers.py?line=1224'>1225</a>\u001b[0m     storage_options\u001b[39m=\u001b[39;49m\u001b[39mself\u001b[39;49m\u001b[39m.\u001b[39;49moptions\u001b[39m.\u001b[39;49mget(\u001b[39m\"\u001b[39;49m\u001b[39mstorage_options\u001b[39;49m\u001b[39m\"\u001b[39;49m, \u001b[39mNone\u001b[39;49;00m),\n\u001b[1;32m   <a href='file:///~/.local/lib/python3.8/site-packages/pandas/io/parsers/readers.py?line=1225'>1226</a>\u001b[0m )\n\u001b[1;32m   <a href='file:///~/.local/lib/python3.8/site-packages/pandas/io/parsers/readers.py?line=1226'>1227</a>\u001b[0m \u001b[39massert\u001b[39;00m \u001b[39mself\u001b[39m\u001b[39m.\u001b[39mhandles \u001b[39mis\u001b[39;00m \u001b[39mnot\u001b[39;00m \u001b[39mNone\u001b[39;00m\n\u001b[1;32m   <a href='file:///~/.local/lib/python3.8/site-packages/pandas/io/parsers/readers.py?line=1227'>1228</a>\u001b[0m f \u001b[39m=\u001b[39m \u001b[39mself\u001b[39m\u001b[39m.\u001b[39mhandles\u001b[39m.\u001b[39mhandle\n",
      "File \u001b[0;32m~/.local/lib/python3.8/site-packages/pandas/io/common.py:789\u001b[0m, in \u001b[0;36mget_handle\u001b[0;34m(path_or_buf, mode, encoding, compression, memory_map, is_text, errors, storage_options)\u001b[0m\n\u001b[1;32m    <a href='file:///~/.local/lib/python3.8/site-packages/pandas/io/common.py?line=783'>784</a>\u001b[0m \u001b[39melif\u001b[39;00m \u001b[39misinstance\u001b[39m(handle, \u001b[39mstr\u001b[39m):\n\u001b[1;32m    <a href='file:///~/.local/lib/python3.8/site-packages/pandas/io/common.py?line=784'>785</a>\u001b[0m     \u001b[39m# Check whether the filename is to be opened in binary mode.\u001b[39;00m\n\u001b[1;32m    <a href='file:///~/.local/lib/python3.8/site-packages/pandas/io/common.py?line=785'>786</a>\u001b[0m     \u001b[39m# Binary mode does not support 'encoding' and 'newline'.\u001b[39;00m\n\u001b[1;32m    <a href='file:///~/.local/lib/python3.8/site-packages/pandas/io/common.py?line=786'>787</a>\u001b[0m     \u001b[39mif\u001b[39;00m ioargs\u001b[39m.\u001b[39mencoding \u001b[39mand\u001b[39;00m \u001b[39m\"\u001b[39m\u001b[39mb\u001b[39m\u001b[39m\"\u001b[39m \u001b[39mnot\u001b[39;00m \u001b[39min\u001b[39;00m ioargs\u001b[39m.\u001b[39mmode:\n\u001b[1;32m    <a href='file:///~/.local/lib/python3.8/site-packages/pandas/io/common.py?line=787'>788</a>\u001b[0m         \u001b[39m# Encoding\u001b[39;00m\n\u001b[0;32m--> <a href='file:///~/.local/lib/python3.8/site-packages/pandas/io/common.py?line=788'>789</a>\u001b[0m         handle \u001b[39m=\u001b[39m \u001b[39mopen\u001b[39;49m(\n\u001b[1;32m    <a href='file:///~/.local/lib/python3.8/site-packages/pandas/io/common.py?line=789'>790</a>\u001b[0m             handle,\n\u001b[1;32m    <a href='file:///~/.local/lib/python3.8/site-packages/pandas/io/common.py?line=790'>791</a>\u001b[0m             ioargs\u001b[39m.\u001b[39;49mmode,\n\u001b[1;32m    <a href='file:///~/.local/lib/python3.8/site-packages/pandas/io/common.py?line=791'>792</a>\u001b[0m             encoding\u001b[39m=\u001b[39;49mioargs\u001b[39m.\u001b[39;49mencoding,\n\u001b[1;32m    <a href='file:///~/.local/lib/python3.8/site-packages/pandas/io/common.py?line=792'>793</a>\u001b[0m             errors\u001b[39m=\u001b[39;49merrors,\n\u001b[1;32m    <a href='file:///~/.local/lib/python3.8/site-packages/pandas/io/common.py?line=793'>794</a>\u001b[0m             newline\u001b[39m=\u001b[39;49m\u001b[39m\"\u001b[39;49m\u001b[39m\"\u001b[39;49m,\n\u001b[1;32m    <a href='file:///~/.local/lib/python3.8/site-packages/pandas/io/common.py?line=794'>795</a>\u001b[0m         )\n\u001b[1;32m    <a href='file:///~/.local/lib/python3.8/site-packages/pandas/io/common.py?line=795'>796</a>\u001b[0m     \u001b[39melse\u001b[39;00m:\n\u001b[1;32m    <a href='file:///~/.local/lib/python3.8/site-packages/pandas/io/common.py?line=796'>797</a>\u001b[0m         \u001b[39m# Binary mode\u001b[39;00m\n\u001b[1;32m    <a href='file:///~/.local/lib/python3.8/site-packages/pandas/io/common.py?line=797'>798</a>\u001b[0m         handle \u001b[39m=\u001b[39m \u001b[39mopen\u001b[39m(handle, ioargs\u001b[39m.\u001b[39mmode)\n",
      "\u001b[0;31mFileNotFoundError\u001b[0m: [Errno 2] No such file or directory: '../Data/sample.csv'"
     ]
    }
   ],
   "source": [
    "#test['price'] = pred\n",
    "df_sample = pd.read_csv('../Data/sample.csv')\n",
    "df_sample['price']=pred\n",
    "df_sample.head()"
   ]
  },
  {
   "cell_type": "code",
   "execution_count": null,
   "metadata": {},
   "outputs": [],
   "source": [
    "df_sample.to_csv('../Data/resultats.csv',index=False)"
   ]
  },
  {
   "cell_type": "code",
   "execution_count": null,
   "metadata": {},
   "outputs": [],
   "source": [
    "test = pd.read_csv('../Data/new_test.csv')\n",
    "test['price'] = pred\n",
    "test_sp = pd.read_csv('../Data/resultatsambprice.csv')\n",
    "test_sp.head()\n",
    "test['price_nd'] = test_sp['price']"
   ]
  },
  {
   "cell_type": "code",
   "execution_count": null,
   "metadata": {},
   "outputs": [],
   "source": [
    "a = test[['price_now','price','price_nd']].reset_index(drop=True)"
   ]
  },
  {
   "cell_type": "code",
   "execution_count": null,
   "metadata": {},
   "outputs": [
    {
     "data": {
      "text/html": [
       "<div>\n",
       "<style scoped>\n",
       "    .dataframe tbody tr th:only-of-type {\n",
       "        vertical-align: middle;\n",
       "    }\n",
       "\n",
       "    .dataframe tbody tr th {\n",
       "        vertical-align: top;\n",
       "    }\n",
       "\n",
       "    .dataframe thead th {\n",
       "        text-align: right;\n",
       "    }\n",
       "</style>\n",
       "<table border=\"1\" class=\"dataframe\">\n",
       "  <thead>\n",
       "    <tr style=\"text-align: right;\">\n",
       "      <th></th>\n",
       "      <th>price_now</th>\n",
       "      <th>price</th>\n",
       "      <th>price_nd</th>\n",
       "    </tr>\n",
       "  </thead>\n",
       "  <tbody>\n",
       "    <tr>\n",
       "      <th>0</th>\n",
       "      <td>NaN</td>\n",
       "      <td>129.696615</td>\n",
       "      <td>141.977830</td>\n",
       "    </tr>\n",
       "    <tr>\n",
       "      <th>7</th>\n",
       "      <td>NaN</td>\n",
       "      <td>214.860479</td>\n",
       "      <td>226.913891</td>\n",
       "    </tr>\n",
       "    <tr>\n",
       "      <th>51</th>\n",
       "      <td>NaN</td>\n",
       "      <td>202.331933</td>\n",
       "      <td>230.806434</td>\n",
       "    </tr>\n",
       "    <tr>\n",
       "      <th>57</th>\n",
       "      <td>NaN</td>\n",
       "      <td>76.796840</td>\n",
       "      <td>61.688450</td>\n",
       "    </tr>\n",
       "    <tr>\n",
       "      <th>59</th>\n",
       "      <td>NaN</td>\n",
       "      <td>164.400424</td>\n",
       "      <td>169.343025</td>\n",
       "    </tr>\n",
       "    <tr>\n",
       "      <th>...</th>\n",
       "      <td>...</td>\n",
       "      <td>...</td>\n",
       "      <td>...</td>\n",
       "    </tr>\n",
       "    <tr>\n",
       "      <th>1344</th>\n",
       "      <td>NaN</td>\n",
       "      <td>131.880743</td>\n",
       "      <td>140.102405</td>\n",
       "    </tr>\n",
       "    <tr>\n",
       "      <th>1360</th>\n",
       "      <td>NaN</td>\n",
       "      <td>200.554758</td>\n",
       "      <td>210.075836</td>\n",
       "    </tr>\n",
       "    <tr>\n",
       "      <th>1362</th>\n",
       "      <td>NaN</td>\n",
       "      <td>74.876882</td>\n",
       "      <td>99.194002</td>\n",
       "    </tr>\n",
       "    <tr>\n",
       "      <th>1374</th>\n",
       "      <td>NaN</td>\n",
       "      <td>227.485583</td>\n",
       "      <td>226.388374</td>\n",
       "    </tr>\n",
       "    <tr>\n",
       "      <th>1378</th>\n",
       "      <td>NaN</td>\n",
       "      <td>219.977434</td>\n",
       "      <td>226.889813</td>\n",
       "    </tr>\n",
       "  </tbody>\n",
       "</table>\n",
       "<p>157 rows × 3 columns</p>\n",
       "</div>"
      ],
      "text/plain": [
       "      price_now       price    price_nd\n",
       "0           NaN  129.696615  141.977830\n",
       "7           NaN  214.860479  226.913891\n",
       "51          NaN  202.331933  230.806434\n",
       "57          NaN   76.796840   61.688450\n",
       "59          NaN  164.400424  169.343025\n",
       "...         ...         ...         ...\n",
       "1344        NaN  131.880743  140.102405\n",
       "1360        NaN  200.554758  210.075836\n",
       "1362        NaN   74.876882   99.194002\n",
       "1374        NaN  227.485583  226.388374\n",
       "1378        NaN  219.977434  226.889813\n",
       "\n",
       "[157 rows x 3 columns]"
      ]
     },
     "execution_count": 84,
     "metadata": {},
     "output_type": "execute_result"
    }
   ],
   "source": [
    "a[test.price_now.isna()]"
   ]
  },
  {
   "cell_type": "code",
   "execution_count": null,
   "metadata": {},
   "outputs": [
    {
     "data": {
      "text/html": [
       "<div>\n",
       "<style scoped>\n",
       "    .dataframe tbody tr th:only-of-type {\n",
       "        vertical-align: middle;\n",
       "    }\n",
       "\n",
       "    .dataframe tbody tr th {\n",
       "        vertical-align: top;\n",
       "    }\n",
       "\n",
       "    .dataframe thead th {\n",
       "        text-align: right;\n",
       "    }\n",
       "</style>\n",
       "<table border=\"1\" class=\"dataframe\">\n",
       "  <thead>\n",
       "    <tr style=\"text-align: right;\">\n",
       "      <th></th>\n",
       "      <th>price</th>\n",
       "      <th>id</th>\n",
       "    </tr>\n",
       "  </thead>\n",
       "  <tbody>\n",
       "    <tr>\n",
       "      <th>0</th>\n",
       "      <td>177.264127</td>\n",
       "      <td>0</td>\n",
       "    </tr>\n",
       "    <tr>\n",
       "      <th>1</th>\n",
       "      <td>127.178101</td>\n",
       "      <td>1</td>\n",
       "    </tr>\n",
       "    <tr>\n",
       "      <th>2</th>\n",
       "      <td>134.649070</td>\n",
       "      <td>2</td>\n",
       "    </tr>\n",
       "    <tr>\n",
       "      <th>3</th>\n",
       "      <td>177.779191</td>\n",
       "      <td>3</td>\n",
       "    </tr>\n",
       "    <tr>\n",
       "      <th>4</th>\n",
       "      <td>147.028703</td>\n",
       "      <td>4</td>\n",
       "    </tr>\n",
       "  </tbody>\n",
       "</table>\n",
       "</div>"
      ],
      "text/plain": [
       "        price  id\n",
       "0  177.264127   0\n",
       "1  127.178101   1\n",
       "2  134.649070   2\n",
       "3  177.779191   3\n",
       "4  147.028703   4"
      ]
     },
     "execution_count": 85,
     "metadata": {},
     "output_type": "execute_result"
    }
   ],
   "source": [
    "test_sp = pd.read_csv('../Data/resultats.csv')\n",
    "test_sp.head()"
   ]
  },
  {
   "cell_type": "markdown",
   "metadata": {},
   "source": [
    "### Best results:\n",
    "MSE: 5034.07568408847   \n",
    "RMSE: 70.95122045524283  \n",
    "MAE: 32.03218826345224  \n",
    "RMSLE: NaN  \n",
    "R^2: 0.6305737999847885  \n",
    "Mean Residual Deviance: 5034.07568408847  \n",
    "Null degrees of freedom: 3024  \n",
    "Residual degrees of freedom: 3022  \n",
    "Null deviance: 41234721.48402415  \n",
    "Residual deviance: 15228078.944367621    \n",
    "AIC: 34377.63338663671  \n",
    "\n",
    "\n",
    "### 20 models amb 75.25\n",
    "MSE: 4413.113506239728  \n",
    "RMSE: 66.43126903981083  \n",
    "MAE: 28.025055732584413    \n",
    "RMSLE: 0.299146877411435  \n",
    "R^2: 0.6722681750995019  \n",
    "Mean Residual Deviance: 4413.113506239728  \n",
    "Null degrees of freedom: 2835  \n",
    "Residual degrees of freedom: 2830  \n",
    "Null deviance: 38199287.598680854  \n",
    "Residual deviance: 12515589.903695868  \n",
    "AIC: 31862.883490100554  \n",
    "\n",
    "### 45 models amb .8.2\n",
    "MSE: 4502.4605954901745  \n",
    "RMSE: 67.1003770145159  \n",
    "MAE: 28.233104156429235  \n",
    "RMSLE: 0.2907156924644855  \n",
    "R^2: 0.6695864319705112  \n",
    "Mean Residual Deviance: 4502.4605954901745  \n",
    "Null degrees of freedom: 3024  \n",
    "Residual degrees of freedom: 3007  \n",
    "Null deviance: 41262429.96852899  \n",
    "Residual deviance: 13619943.301357778  \n",
    "AIC: 34070.02558496956  \n",
    "\n",
    "### - models amb .8.2\n",
    "MSE: 4551.037260240422  \n",
    "RMSE: 67.4613760624583  \n",
    "MAE: 28.436830794412877  \n",
    "RMSLE: 0.2944180061210839  \n",
    "R^2: 0.6660216280632479  \n",
    "Mean Residual Deviance: 4551.037260240422  \n",
    "Null degrees of freedom: 3024  \n",
    "Residual degrees of freedom: 3020  \n",
    "Null deviance: 41222699.03765267  \n",
    "Residual deviance: 13766887.712227277  \n",
    "AIC: 34076.48725301213  \n",
    "\n",
    "## - models .7/.3\n",
    "MSE: 4039.3116292382847  \n",
    "RMSE: 63.555579056745955  \n",
    "MAE: 27.384928106351573  \n",
    "RMSLE: 0.28838987687471507  \n",
    "R^2: 0.6974464298772651  \n",
    "Mean Residual Deviance: 4039.3116292382847  \n",
    "Null degrees of freedom: 2646  \n",
    "Residual degrees of freedom: 2620  \n",
    "Null deviance: 35364387.032175496  \n",
    "Residual deviance: 10692057.88259374  \n",
    "AIC: 29548.0974603153  "
   ]
  },
  {
   "cell_type": "code",
   "execution_count": null,
   "metadata": {},
   "outputs": [],
   "source": []
  }
 ],
 "metadata": {
  "interpreter": {
   "hash": "4034f9195f5552b4454ef60198efa491d941068725cfe9b8182a5b0158f58c43"
  },
  "kernelspec": {
   "display_name": "Python 3.8.12 ('ironhack')",
   "language": "python",
   "name": "python3"
  },
  "language_info": {
   "codemirror_mode": {
    "name": "ipython",
    "version": 3
   },
   "file_extension": ".py",
   "mimetype": "text/x-python",
   "name": "python",
   "nbconvert_exporter": "python",
   "pygments_lexer": "ipython3",
   "version": "3.8.12"
  },
  "orig_nbformat": 4
 },
 "nbformat": 4,
 "nbformat_minor": 2
}
